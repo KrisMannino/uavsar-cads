{
 "cells": [
  {
   "cell_type": "markdown",
   "id": "74970bb0",
   "metadata": {},
   "source": [
    "## Generates fire perimeter and burn severity mapping based on UAVSAR PolSAR data\n",
    "\n",
    "More information about file & data requirement can be found in README.md"
   ]
  },
  {
   "cell_type": "code",
   "execution_count": 4,
   "id": "ff50c986-2c0e-405f-9f4d-97879e7171cc",
   "metadata": {},
   "outputs": [],
   "source": [
    "import sys\n",
    "from pathlib import Path\n",
    "\n",
    "# Add the path to the utils folder to sys.path\n",
    "utils_path = Path('../python').resolve()\n",
    "sys.path.append(str(utils_path))"
   ]
  },
  {
   "cell_type": "code",
   "execution_count": 5,
   "id": "6ae9c5bb-aac7-4066-808b-5ba78db11c74",
   "metadata": {},
   "outputs": [],
   "source": [
    "from classify import gen_perimeter_sbs "
   ]
  },
  {
   "cell_type": "markdown",
   "id": "558331b1",
   "metadata": {},
   "source": [
    "Note there will be user-inputs required during the process\n",
    "\n",
    "1) At the start: to select base-image for reprojection\n",
    "2) First visualization: to select polgyons to include for perimeter\n",
    "3) Second visualization: to select perimeter to use for burn severity\n",
    "\n",
    "*NOTE*: The `superpixel_path` parameter will be none during the first run for any fire. Afterward, a superpixel segmentation label will be outputted as a numpy array that can be used for future runs of the same data to save run time. The path to that array will be the value of the `superpixel_path` parameter."
   ]
  },
  {
   "cell_type": "code",
   "execution_count": null,
   "id": "01a3890f-96ec-4709-99c9-2c75a11295de",
   "metadata": {},
   "outputs": [
    {
     "name": "stdout",
     "output_type": "stream",
     "text": [
      "Available flight image files:\n",
      "0: /Volumes/BlueT7/test_bob/SanAnd_08525_18076_003_181011_HVHV_rtc_cropped_25km.tif\n",
      "1: /Volumes/BlueT7/test_bob/SanAnd_08525_21065_014_211117_HVHV_rtc_cropped_25km.tif\n",
      "2: /Volumes/BlueT7/test_bob/SanAnd_08527_18001_010_180205_HVHV_rtc_cropped_25km.tif\n",
      "3: /Volumes/BlueT7/test_bob/SanAnd_08527_20029_004_201014_HVHV_rtc_cropped_25km.tif\n"
     ]
    },
    {
     "name": "stdin",
     "output_type": "stream",
     "text": [
      "Enter the index of the image you want to select as the base-flight for reprojection. The rest of the images will be reproject to this profile :  1\n"
     ]
    },
    {
     "name": "stdout",
     "output_type": "stream",
     "text": [
      "Preprocessing images to merge...\n",
      "/Volumes/BlueT7/test_bob/bobcat_perimeter_sbs_merged_0.tif is outputted.\n",
      "/Volumes/BlueT7/test_bob/bobcat_perimeter_sbs_merged_1.tif is outputted.\n",
      "Performing superpixel segmentation...\n"
     ]
    }
   ],
   "source": [
    "# Generate fire perimeter using UAVSAR data and a burn severity based on generated perimeter\n",
    "# Can go into classify.py to look at more information regarding the perimeters\n",
    "gen_perimeter_sbs(data_path = '/Volumes/BlueT7/test_bob/',\n",
    "                  root_name = 'bobcat_perimeter_sbs',\n",
    "                  resampling = 'bilinear',\n",
    "                  longitude = -117.9,\n",
    "                  latitude = 34.3,\n",
    "                  min_area_sq_km = 1, # optional, depending on the fire size\n",
    "                  min_size = 15, # optional but important for customization\n",
    "                  weight = 5.0, # optional\n",
    "                  top_k_index = 10, # optional\n",
    "                  superpixel_path = None # optional but would be useful if running multiple times\n",
    "                  )"
   ]
  },
  {
   "cell_type": "markdown",
   "id": "bd27fca1",
   "metadata": {},
   "source": [
    "## Combining perimeters of large fires\n",
    "\n",
    "If a fire is large and its area requires coverage from multiple UAVSAR flight lines(ex: Bobcat(2020)-2 lines & Station(2009)-2 lines), the product above will need to be run more than once. \n",
    "\n",
    "To combine the outputted perimeters into a single geojson file, `merge_geojson` from `process_utils.py` can be used to combine the GeoDataFrames(GDF) and use gdf's built-in `to_file` function to save the combined GDF."
   ]
  },
  {
   "cell_type": "markdown",
   "id": "c28da0e9",
   "metadata": {},
   "source": []
  }
 ],
 "metadata": {
  "kernelspec": {
   "display_name": "classification",
   "language": "python",
   "name": "classification"
  },
  "language_info": {
   "codemirror_mode": {
    "name": "ipython",
    "version": 3
   },
   "file_extension": ".py",
   "mimetype": "text/x-python",
   "name": "python",
   "nbconvert_exporter": "python",
   "pygments_lexer": "ipython3",
   "version": "3.12.6"
  }
 },
 "nbformat": 4,
 "nbformat_minor": 5
}
