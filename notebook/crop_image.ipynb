{
 "cells": [
  {
   "cell_type": "markdown",
   "id": "4de20e4c",
   "metadata": {},
   "source": [
    "# Purpose:\n",
    "- For **Fire Perimeter**:\n",
    "    - Generate a circular polygon and crop the flight image based on that polygon\n",
    "- For **Burn Severity**:\n",
    "    - Crop the raster image based on input fire perimeter in GeoJSON (*product generated* or [CALFIRE](https://gis.data.ca.gov/datasets/CALFIRE-Forestry::california-fire-perimeters-all-1/explore)) or shapefile ([MTBS](https://www.mtbs.gov/viewer/index.html))\n",
    "- For **either**:\n",
    "    - Reproject a raster image to another coordinate reference systems (Check for burn severity raster images [MTBS](https://www.mtbs.gov/viewer/index.html))\n",
    "    \n",
    "***Due to GitHub file size limit, the post-RTC data is not available on this repository. Please following the steps in the 'radiometric_terrain_correction' repository to obtain the RTC data***\n",
    "\n",
    "Cropped RTC image is available for the application of the other 3 notebooks in this repo.\n"
   ]
  },
  {
   "cell_type": "code",
   "execution_count": 1,
   "id": "fbcc9b0b",
   "metadata": {},
   "outputs": [
    {
     "name": "stdout",
     "output_type": "stream",
     "text": [
      "/Users/krismannino/Code/CADS/IMPACT/uavsar-wildfire/python\n"
     ]
    }
   ],
   "source": [
    "import sys\n",
    "from pathlib import Path\n",
    "\n",
    "# Add the path to the utils folder to sys.path\n",
    "utils_path = Path('../python').resolve()\n",
    "print(utils_path)\n",
    "sys.path.append(str(utils_path))\n",
    "\n",
    "from pathlib import Path\n",
    "from rasterio.crs import CRS\n",
    "from crop_utils import (crop_image_by_coordinates, \n",
    "                        crop_image_by_geojson_shp, \n",
    "                        reproject_geotiff)\n",
    "from edit_path_utils import (edit_paths)"
   ]
  },
  {
   "cell_type": "markdown",
   "id": "e7ec7f83",
   "metadata": {},
   "source": [
    "---\n",
    "## Crop image by box from center\n",
    "Returns a cropped version of the input image based on rectangle centered on coordinate\n",
    "\n",
    "**Parameters**:\n",
    "- `path_to_images` (list): a list containing the paths to the images cropping from \n",
    "- `output_names` (list): a list containing the output names for the cropped images [**.tif** files]\n",
    "- `center_longitude` (float): center longitude of the fire\n",
    "- `center_latitude` (float): center latitude of the fire\n",
    "- `width_km`  (float): full width of box in km to crop centered on coordinate \n",
    "- `height_km`  (float): full height of box in km to crop centered on coordinate\n",
    "<!-- - `radius_in_km` (float): radius from the coordinate in km to crop -->"
   ]
  },
  {
   "cell_type": "code",
   "execution_count": 4,
   "id": "2d85f0c1",
   "metadata": {},
   "outputs": [
    {
     "name": "stdout",
     "output_type": "stream",
     "text": [
      "/Volumes/BlackT7/bobcat_flight_paths/SanAnd_08525_18076_003_181011_L090_CX_01/SanAnd_08525_18076_003_181011_HVHV_rtc.grd\n",
      "/Volumes/BlackT7/bobcat_flight_paths/SanAnd_08525_21041_007_210526_L090_CX_01/SanAnd_08525_21041_007_210526_HVHV_rtc.grd\n"
     ]
    }
   ],
   "source": [
    "data_dir = Path('/Volumes/BlackT7/bobcat_flight_paths')\n",
    "tifs = sorted(list(data_dir.rglob('./*_rtc.grd')))\n",
    "\n",
    "# adjust for wanted and unwanted tifs\n",
    "include = [\n",
    "            \"181011\",\n",
    "            \"210526\"\n",
    "          ]\n",
    "exclude = [\n",
    "            \"26526\"\n",
    "          ]\n",
    "\n",
    "tifs = edit_paths(include,exclude,tifs)\n",
    "print(*tifs, sep=\"\\n\")"
   ]
  },
  {
   "cell_type": "code",
   "execution_count": 24,
   "id": "08548b65",
   "metadata": {},
   "outputs": [
    {
     "name": "stdout",
     "output_type": "stream",
     "text": [
      "/Volumes/BlackT7/bobcat_flight_paths/SanAnd_08525_18076_003_181011_HVHV_rtc_box_crop_45km_40km.tif\n",
      "/Volumes/BlackT7/bobcat_flight_paths/SanAnd_08525_21041_007_210526_HVHV_rtc_box_crop_45km_40km.tif\n"
     ]
    }
   ],
   "source": [
    "path_to_images = tifs\n",
    "\n",
    "# Enter center longitude and latitude for Area of Interest\n",
    "center_longitude = -117.92976\n",
    "center_latitude = 34.33253\n",
    "# radius_in_km = 25  #radius functionality in python/crop_utlis\n",
    "width_km = 45  ## total width and height\n",
    "height_km =40\n",
    "\n",
    "output_names = [str(data_dir) + '/' + file.stem + '_box_crop_' + str(width_km) +\"km_\"+ str(height_km) + 'km.tif' for file in path_to_images]\n",
    "print(*output_names, sep=\"\\n\")"
   ]
  },
  {
   "cell_type": "markdown",
   "id": "89ebf6da-5508-4bd4-9fb8-e61faaaffe5d",
   "metadata": {},
   "source": [
    "---\n",
    "Now perform the cropping and the output will be saved at the working directory. Or you can edit `output_names` variable to set a location"
   ]
  },
  {
   "cell_type": "code",
   "execution_count": 4,
   "id": "15972a4d-6427-45b8-ad51-91cb533d7a7a",
   "metadata": {
    "scrolled": true
   },
   "outputs": [
    {
     "name": "stdout",
     "output_type": "stream",
     "text": [
      "/Volumes/BlackT7/bobcat_flight_paths/SanAnd_08525_18076_003_181011_HVHV_rtc_rectangle_cropped_45km_40km.tif is outputted!\n",
      "/Volumes/BlackT7/bobcat_flight_paths/SanAnd_08525_21041_007_210526_HVHV_rtc_rectangle_cropped_45km_40km.tif is outputted!\n"
     ]
    }
   ],
   "source": [
    "for i in range(len(path_to_images)):\n",
    "    crop_image_by_coordinates(path_to_images[i],\n",
    "                              output_names[i], \n",
    "                              center_longitude, \n",
    "                              center_latitude, \n",
    "                              width_km,\n",
    "                              height_km)"
   ]
  },
  {
   "cell_type": "code",
   "execution_count": 10,
   "id": "80d56e36-4f64-433f-9976-6d98d076ab20",
   "metadata": {},
   "outputs": [
    {
     "name": "stdout",
     "output_type": "stream",
     "text": [
      "/Volumes/BlackT7/bobcat_flight_paths/SanAnd_08525_18076_003_181011_L090_CX_01/SanAnd_08525_18076_003_181011_L090_CX_01.inc\n",
      "/Volumes/BlackT7/bobcat_flight_paths/SanAnd_26526_18076_002_181011_L090_CX_01/SanAnd_26526_18076_002_181011_L090_CX_01.inc\n"
     ]
    }
   ],
   "source": [
    "##data_dir = Path('../data/latuna')\n",
    "incs = sorted(list(data_dir.rglob('./*.inc')))\n",
    "# include = [\n",
    "#           ]\n",
    "# exclude = [\n",
    "#           ]\n",
    "\n",
    "incs = edit_paths(include,exclude,incs)\n",
    "print(*incs, sep=\"\\n\")"
   ]
  },
  {
   "cell_type": "code",
   "execution_count": 8,
   "id": "e218e10e-b6cd-42db-a46f-c908b7d31d4d",
   "metadata": {},
   "outputs": [
    {
     "name": "stdout",
     "output_type": "stream",
     "text": [
      "/Volumes/BlackT7/bobcat_flight_paths/SanAnd_08525_18076_003_181011_L090_CX_01_inc_cropped_45km_40km.tif\n",
      "/Volumes/BlackT7/bobcat_flight_paths/SanAnd_08525_21041_007_210526_L090_CX_01_inc_cropped_45km_40km.tif\n"
     ]
    }
   ],
   "source": [
    "path_to_images = incs\n",
    "output_names = [str(data_dir) + '/' + file.stem  + '_inc_box_crop_' + str(width_km) +\"km_\"+ str(height_km) + 'km.tif' for file in path_to_images]\n",
    "print(*output_names, sep=\"\\n\")"
   ]
  },
  {
   "cell_type": "markdown",
   "id": "074820ec",
   "metadata": {},
   "source": [
    "---\n",
    "Now perform the cropping and the output will be saved at the working directory. Or you can edit `output_names` variable to set a location"
   ]
  },
  {
   "cell_type": "code",
   "execution_count": 9,
   "id": "167de085",
   "metadata": {
    "scrolled": true
   },
   "outputs": [
    {
     "name": "stdout",
     "output_type": "stream",
     "text": [
      "/Volumes/BlackT7/bobcat_flight_paths/SanAnd_08525_18076_003_181011_L090_CX_01_inc_cropped_45km_40km.tif is outputted!\n",
      "/Volumes/BlackT7/bobcat_flight_paths/SanAnd_08525_21041_007_210526_L090_CX_01_inc_cropped_45km_40km.tif is outputted!\n"
     ]
    }
   ],
   "source": [
    "for i in range(len(path_to_images)):\n",
    "    crop_image_by_coordinates(path_to_images[i],\n",
    "                              output_names[i], \n",
    "                              center_longitude, \n",
    "                              center_latitude, \n",
    "                              width_km,\n",
    "                              height_km)"
   ]
  },
  {
   "cell_type": "markdown",
   "id": "de54a688",
   "metadata": {},
   "source": [
    "---\n",
    "## Crop image by a GeoJSON or Shapefile\n",
    "Returns a cropped version of the input image corresponding to the polygon(s) in the input GeoJSON or Shapefile.\n",
    "\n",
    "**Parameters**:\n",
    "- `path_to_polygon_file` (str): path to the geojson or shapefile\n",
    "- `path_to_images` (list): a list containing the paths to the images cropping from\n",
    "- `output_names` (list): a list containing the output names for the cropped images. [**.tif** files]\n",
    "\n",
    "The sample below will be cropping with a shapefile"
   ]
  },
  {
   "cell_type": "code",
   "execution_count": 18,
   "id": "12698266",
   "metadata": {},
   "outputs": [
    {
     "name": "stdout",
     "output_type": "stream",
     "text": [
      "/Volumes/BlackT7/bobcat_perimeter_wen/._bobcat_perimeter_wen.shp\n",
      "/Volumes/BlackT7/bobcat_perimeter_wen/bobcat_perimeter_wen.shp\n"
     ]
    }
   ],
   "source": [
    "# OPTIONAL\n",
    "# Regressive search directory here \n",
    "folder_path = '/Volumes/BlackT7/bobcat_perimeter_wen' # path to shapefiles\n",
    "\n",
    "shp_dir = Path(folder_path)\n",
    "shps = sorted(list(shp_dir.glob('./*.shp')))\n",
    "\n",
    "# OPTIONAL\n",
    "# adjust for wanted and unwanted shps\n",
    "# include = [     \n",
    "#           ]\n",
    "# exclude = [\n",
    "#           ]\n",
    "# shps = edit_paths(include,exclude,shps)\n",
    "\n",
    "print(*shps, sep=\"\\n\")"
   ]
  },
  {
   "cell_type": "code",
   "execution_count": 19,
   "id": "21463bff-be6f-4545-8498-5591405ab11f",
   "metadata": {},
   "outputs": [
    {
     "data": {
      "text/plain": [
       "'/Volumes/BlueT7/bobcat_burn_perim/mtbs/2020/ca3424811795920200906/ca3424811795920200906_20200703_20210706_burn_bndy.shp'"
      ]
     },
     "execution_count": 19,
     "metadata": {},
     "output_type": "execute_result"
    }
   ],
   "source": [
    "# Direct enter (NOT OPTIONAL)\n",
    "# from path or list above\n",
    "shp = '/Volumes/BlueT7/bobcat_burn_perim/mtbs/2020/ca3424811795920200906/ca3424811795920200906_20200703_20210706_burn_bndy.shp'\n",
    "shp"
   ]
  },
  {
   "cell_type": "code",
   "execution_count": 27,
   "id": "5a1260af",
   "metadata": {},
   "outputs": [
    {
     "name": "stdout",
     "output_type": "stream",
     "text": [
      "/Volumes/BlackT7/bobcat_flight_paths/SanAnd_08525_18076_003_181011_L090_CX_01/SanAnd_08525_18076_003_181011_HVHV_rtc.grd\n",
      "/Volumes/BlackT7/bobcat_flight_paths/SanAnd_08525_21041_007_210526_L090_CX_01/SanAnd_08525_21041_007_210526_HVHV_rtc.grd\n"
     ]
    }
   ],
   "source": [
    "data_dir = Path('/Volumes/BlackT7/bobcat_flight_paths')\n",
    "# tifs = sorted(list(data_dir.glob('./*weighted*.tif')))\n",
    "# tifs = sorted(list(data_dir.rglob('./*_rtc.grd')))\n",
    "\n",
    "# # adjust for wanted and unwanted tifs\n",
    "# include = [\n",
    "#           ]\n",
    "# exclude = [\n",
    "#           ]\n",
    "\n",
    "tifs = edit_paths(include,exclude,tifs)\n",
    "print(*tifs, sep=\"\\n\")"
   ]
  },
  {
   "cell_type": "code",
   "execution_count": 29,
   "id": "5d7e63f9",
   "metadata": {},
   "outputs": [
    {
     "data": {
      "text/plain": [
       "['/Volumes/BlackT7/bobcat_flight_paths/SanAnd_08525_18076_003_181011_HVHV_rtc_perimeter_crop.tif',\n",
       " '/Volumes/BlackT7/bobcat_flight_paths/SanAnd_08525_21041_007_210526_HVHV_rtc_perimeter_crop.tif']"
      ]
     },
     "execution_count": 29,
     "metadata": {},
     "output_type": "execute_result"
    }
   ],
   "source": [
    "path_to_polygon_file = shp\n",
    "path_to_images = tifs\n",
    "output_names = [str(data_dir) + '/' + file.stem + '_perimeter_crop.tif' for file in tifs]\n",
    "output_names"
   ]
  },
  {
   "cell_type": "markdown",
   "id": "ad93c2d6",
   "metadata": {},
   "source": [
    "---\n",
    "Now perform the cropping and the output will be saved at the working directory. Or you can edit `output_names` variable to set a location\n",
    "\n",
    "replace `path_to_polygon_file` with the geojson path if cropping by geojson"
   ]
  },
  {
   "cell_type": "code",
   "execution_count": 35,
   "id": "910f5202",
   "metadata": {
    "scrolled": true
   },
   "outputs": [
    {
     "name": "stdout",
     "output_type": "stream",
     "text": [
      "/Volumes/BlackT7/bobcat_flight_paths/SanAnd_08525_20029_006_201015_HVHV_rtc_shp_bndy.tif is outputted.\n"
     ]
    }
   ],
   "source": [
    "for i in range(len(path_to_images)):\n",
    "    crop_image_by_geojson_shp(path_to_polygon_file,\n",
    "                              path_to_images[i], \n",
    "                              output_names[i])"
   ]
  },
  {
   "cell_type": "code",
   "execution_count": null,
   "id": "f7f931c5-c1db-4686-a2ac-e1ed0af4a0ae",
   "metadata": {},
   "outputs": [],
   "source": []
  },
  {
   "cell_type": "markdown",
   "id": "62cd358e",
   "metadata": {},
   "source": [
    "---\n",
    "## Reproject Raster image to another coordinate reference systems\n",
    "Used to reproject the MTBS burn severity map from ESRI:102039 to EPSG:4326, crs of UAVSAR data\n",
    "\n",
    "The output could be used to extract the burn severity map of a particular fire or area, using `crop_image_by_coordinates`, `crop_image_by_geojson`, or `crop_image_by_shp` from above\n",
    "\n",
    "**Parameters**\n",
    "- `target_crs` (CRS): the crs to reproject the image to\n",
    "- `input_raster_path` (str): path to the original raster image\n",
    "- `output_raster_path` (str): path for the reprojected raster image [**.tif** files]"
   ]
  },
  {
   "cell_type": "code",
   "execution_count": 45,
   "id": "6c4d9328",
   "metadata": {
    "scrolled": true
   },
   "outputs": [
    {
     "name": "stdout",
     "output_type": "stream",
     "text": [
      "/Volumes/BlueT7/test_bob/SanAnd_08525_18076_003_181011_HVHV_rtc_cropped_25km.tif\n"
     ]
    }
   ],
   "source": [
    "data_dir = Path('/Volumes/BlueT7/test_bob/')\n",
    "tifs = sorted(list(data_dir.glob('./*.tif')))\n",
    "\n",
    "# adjust for wanted and unwanted tifs\n",
    "include = [\n",
    "            \"181011\"\n",
    "          ]\n",
    "exclude = [\n",
    "            \"inc\"\n",
    "          ]\n",
    "\n",
    "tifs = edit_paths(include,exclude,tifs)\n",
    "print(*tifs, sep=\"\\n\")"
   ]
  },
  {
   "cell_type": "code",
   "execution_count": 51,
   "id": "2be64663",
   "metadata": {
    "scrolled": true
   },
   "outputs": [],
   "source": [
    "target_crs = CRS.from_epsg(26911)   \n",
    "input_raster_path = tifs[0]\n",
    "output_raster_path = 'SanAnd_08525_18076_003_181011_HVHV_rtc_cropped_25km_crs4326.tif'"
   ]
  },
  {
   "cell_type": "markdown",
   "id": "bec2bb5d",
   "metadata": {},
   "source": [
    "---\n",
    "Now perform the cropping and the output will be saved at the working directory. Or you can edit `output_names` variable to set a location"
   ]
  },
  {
   "cell_type": "code",
   "execution_count": 52,
   "id": "f92a5dd1",
   "metadata": {},
   "outputs": [
    {
     "name": "stdout",
     "output_type": "stream",
     "text": [
      "Reprojected raster saved to: SanAnd_08525_18076_003_181011_HVHV_rtc_cropped_25km_crs4326.tif\n"
     ]
    }
   ],
   "source": [
    "reproject_geotiff(target_crs, input_raster_path, output_raster_path)"
   ]
  },
  {
   "cell_type": "code",
   "execution_count": 41,
   "id": "504bcd04-4c45-407e-91f2-ba3c7b17d0ef",
   "metadata": {},
   "outputs": [
    {
     "data": {
      "text/plain": [
       "'/Users/krismannino/Code/CADS/IMPACT/uavsar-wildfire/notebook'"
      ]
     },
     "execution_count": 41,
     "metadata": {},
     "output_type": "execute_result"
    }
   ],
   "source": [
    "pwd"
   ]
  }
 ],
 "metadata": {
  "kernelspec": {
   "display_name": "classification",
   "language": "python",
   "name": "classification"
  },
  "language_info": {
   "codemirror_mode": {
    "name": "ipython",
    "version": 3
   },
   "file_extension": ".py",
   "mimetype": "text/x-python",
   "name": "python",
   "nbconvert_exporter": "python",
   "pygments_lexer": "ipython3",
   "version": "3.12.7"
  }
 },
 "nbformat": 4,
 "nbformat_minor": 5
}
