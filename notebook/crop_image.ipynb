{
 "cells": [
  {
   "cell_type": "markdown",
   "id": "4de20e4c",
   "metadata": {},
   "source": [
    "# Purpose:\n",
    "- For **Fire Perimeter**:\n",
    "    - Generate a circular polygon and crop the flight image based on that polygon\n",
    "- For **Burn Severity**:\n",
    "    - Crop the raster image based on input fire perimeter in GeoJSON (*product generated* or [CALFIRE](https://gis.data.ca.gov/datasets/CALFIRE-Forestry::california-fire-perimeters-all-1/explore)) or shapefile ([MTBS](https://www.mtbs.gov/viewer/index.html))\n",
    "- For **either**:\n",
    "    - Reproject a raster image to another coordinate reference systems (Check for burn severity raster images [MTBS](https://www.mtbs.gov/viewer/index.html))\n",
    "    \n",
    "***Due to GitHub file size limit, the post-RTC data is not available on this repository. Please following the steps in the 'radiometric_terrain_correction' repository to obtain the RTC data***\n",
    "\n",
    "Cropped RTC image is available for the application of the other 3 notebooks in this repo.\n"
   ]
  },
  {
   "cell_type": "code",
   "execution_count": 1,
   "id": "fbcc9b0b",
   "metadata": {},
   "outputs": [
    {
     "name": "stdout",
     "output_type": "stream",
     "text": [
      "/Users/krismannino/Code/CADS/IMPACT/uavsar-wildfire/python\n"
     ]
    }
   ],
   "source": [
    "import sys\n",
    "from pathlib import Path\n",
    "\n",
    "# Add the path to the utils folder to sys.path\n",
    "utils_path = Path('../python').resolve()\n",
    "print(utils_path)\n",
    "sys.path.append(str(utils_path))\n",
    "\n",
    "from pathlib import Path\n",
    "from rasterio.crs import CRS\n",
    "from crop_utils import (crop_image_by_coordinates, \n",
    "                        crop_image_by_geojson_shp, \n",
    "                        reproject_geotiff)"
   ]
  },
  {
   "cell_type": "markdown",
   "id": "e7ec7f83",
   "metadata": {},
   "source": [
    "---\n",
    "## Crop image by radius from center\n",
    "Returns a cropped version of the input image based intersection of the specificed circle\n",
    "\n",
    "**Parameters**:\n",
    "- `path_to_images` (list): a list containing the paths to the images cropping from \n",
    "- `output_names` (list): a list containing the output names for the cropped images [**.tif** files]\n",
    "- `center_longitude` (float): center longitude of the fire\n",
    "- `center_latitude` (float): center latitude of the fire\n",
    "- `radius_in_km` (float): radius from the coordinate in km to crop"
   ]
  },
  {
   "cell_type": "code",
   "execution_count": 4,
   "id": "2d85f0c1",
   "metadata": {},
   "outputs": [
    {
     "data": {
      "text/plain": [
       "[PosixPath('/Volumes/BlueT7/test_bob/SanAnd_08525_18076_003_181011_L090_CX_01/SanAnd_08525_18076_003_181011_HVHV_rtc.grd'),\n",
       " PosixPath('/Volumes/BlueT7/test_bob/SanAnd_08525_21065_014_211117_L090_CX_01/SanAnd_08525_21065_014_211117_HVHV_rtc.grd'),\n",
       " PosixPath('/Volumes/BlueT7/test_bob/SanAnd_08527_18001_010_180205_L090_CX_01/SanAnd_08527_18001_010_180205_HVHV_rtc.grd'),\n",
       " PosixPath('/Volumes/BlueT7/test_bob/SanAnd_08527_20029_004_201014_L090_CX_01/SanAnd_08527_20029_004_201014_HVHV_rtc.grd')]"
      ]
     },
     "execution_count": 4,
     "metadata": {},
     "output_type": "execute_result"
    }
   ],
   "source": [
    "data_dir = Path('/Volumes/BlueT7/test_bob/')\n",
    "tifs = sorted(list(data_dir.rglob('./*_rtc.grd')))\n",
    "tifs"
   ]
  },
  {
   "cell_type": "code",
   "execution_count": 5,
   "id": "08548b65",
   "metadata": {},
   "outputs": [
    {
     "name": "stdout",
     "output_type": "stream",
     "text": [
      "['/Volumes/BlueT7/test_bob/SanAnd_08525_18076_003_181011_HVHV_rtc_cropped_25km.tif', '/Volumes/BlueT7/test_bob/SanAnd_08525_21065_014_211117_HVHV_rtc_cropped_25km.tif', '/Volumes/BlueT7/test_bob/SanAnd_08527_18001_010_180205_HVHV_rtc_cropped_25km.tif', '/Volumes/BlueT7/test_bob/SanAnd_08527_20029_004_201014_HVHV_rtc_cropped_25km.tif']\n"
     ]
    }
   ],
   "source": [
    "path_to_images = tifs\n",
    "center_longitude = -117.92975788698749\n",
    "center_latitude = 34.33252725809852\n",
    "radius_in_km = 25\n",
    "output_names = [str(data_dir) + '/' + file.stem + '_cropped_' + str(radius_in_km) + 'km.tif' for file in path_to_images]\n",
    "print(output_names)##"
   ]
  },
  {
   "cell_type": "markdown",
   "id": "89ebf6da-5508-4bd4-9fb8-e61faaaffe5d",
   "metadata": {},
   "source": [
    "---\n",
    "Now perform the cropping and the output will be saved at the working directory. Or you can edit `output_names` variable to set a location"
   ]
  },
  {
   "cell_type": "code",
   "execution_count": 6,
   "id": "15972a4d-6427-45b8-ad51-91cb533d7a7a",
   "metadata": {
    "scrolled": true
   },
   "outputs": [
    {
     "name": "stdout",
     "output_type": "stream",
     "text": [
      "/Volumes/BlueT7/test_bob/SanAnd_08525_18076_003_181011_HVHV_rtc_cropped_25km.tif is outputted!\n",
      "/Volumes/BlueT7/test_bob/SanAnd_08525_21065_014_211117_HVHV_rtc_cropped_25km.tif is outputted!\n",
      "/Volumes/BlueT7/test_bob/SanAnd_08527_18001_010_180205_HVHV_rtc_cropped_25km.tif is outputted!\n",
      "/Volumes/BlueT7/test_bob/SanAnd_08527_20029_004_201014_HVHV_rtc_cropped_25km.tif is outputted!\n"
     ]
    }
   ],
   "source": [
    "for i in range(len(path_to_images)):\n",
    "    crop_image_by_coordinates(path_to_images[i],\n",
    "                              output_names[i], \n",
    "                              center_longitude, \n",
    "                              center_latitude, \n",
    "                              radius_in_km)"
   ]
  },
  {
   "cell_type": "code",
   "execution_count": 7,
   "id": "80d56e36-4f64-433f-9976-6d98d076ab20",
   "metadata": {},
   "outputs": [
    {
     "data": {
      "text/plain": [
       "[PosixPath('/Volumes/BlueT7/test_bob/SanAnd_08525_18076_003_181011_L090_CX_01/SanAnd_08525_18076_003_181011_L090_CX_01.inc'),\n",
       " PosixPath('/Volumes/BlueT7/test_bob/SanAnd_08525_21065_014_211117_L090_CX_01/SanAnd_08525_21065_014_211117_L090_CX_01.inc'),\n",
       " PosixPath('/Volumes/BlueT7/test_bob/SanAnd_08527_18001_010_180205_L090_CX_01/SanAnd_08527_18001_010_180205_L090_CX_01.inc'),\n",
       " PosixPath('/Volumes/BlueT7/test_bob/SanAnd_08527_20029_004_201014_L090_CX_01/SanAnd_08527_20029_004_201014_L090_CX_01.inc')]"
      ]
     },
     "execution_count": 7,
     "metadata": {},
     "output_type": "execute_result"
    }
   ],
   "source": [
    "##data_dir = Path('../data/latuna')\n",
    "incs = sorted(list(data_dir.rglob('./*.inc')))\n",
    "incs"
   ]
  },
  {
   "cell_type": "code",
   "execution_count": 8,
   "id": "e218e10e-b6cd-42db-a46f-c908b7d31d4d",
   "metadata": {},
   "outputs": [
    {
     "name": "stdout",
     "output_type": "stream",
     "text": [
      "['/Volumes/BlueT7/test_bob/SanAnd_08525_18076_003_181011_L090_CX_01_inc_25km.tif', '/Volumes/BlueT7/test_bob/SanAnd_08525_21065_014_211117_L090_CX_01_inc_25km.tif', '/Volumes/BlueT7/test_bob/SanAnd_08527_18001_010_180205_L090_CX_01_inc_25km.tif', '/Volumes/BlueT7/test_bob/SanAnd_08527_20029_004_201014_L090_CX_01_inc_25km.tif']\n"
     ]
    }
   ],
   "source": [
    "path_to_images = incs\n",
    "##center_longitude = -118.2674\n",
    "##center_latitude = 34.22957\n",
    "##radius_in_km = 10\n",
    "output_names = [str(data_dir) + '/' + file.stem + '_inc_' + str(radius_in_km) + 'km.tif' for file in path_to_images]\n",
    "print(output_names)##"
   ]
  },
  {
   "cell_type": "markdown",
   "id": "074820ec",
   "metadata": {},
   "source": [
    "---\n",
    "Now perform the cropping and the output will be saved at the working directory. Or you can edit `output_names` variable to set a location"
   ]
  },
  {
   "cell_type": "code",
   "execution_count": 10,
   "id": "167de085",
   "metadata": {
    "scrolled": true
   },
   "outputs": [
    {
     "name": "stdout",
     "output_type": "stream",
     "text": [
      "/Volumes/BlueT7/test_bob/SanAnd_08525_18076_003_181011_L090_CX_01_inc_25km.tif is outputted!\n",
      "/Volumes/BlueT7/test_bob/SanAnd_08525_21065_014_211117_L090_CX_01_inc_25km.tif is outputted!\n",
      "/Volumes/BlueT7/test_bob/SanAnd_08527_18001_010_180205_L090_CX_01_inc_25km.tif is outputted!\n",
      "/Volumes/BlueT7/test_bob/SanAnd_08527_20029_004_201014_L090_CX_01_inc_25km.tif is outputted!\n"
     ]
    }
   ],
   "source": [
    "for i in range(len(path_to_images)):\n",
    "    crop_image_by_coordinates(path_to_images[i],\n",
    "                              output_names[i], \n",
    "                              center_longitude, \n",
    "                              center_latitude, \n",
    "                              radius_in_km)"
   ]
  },
  {
   "cell_type": "markdown",
   "id": "de54a688",
   "metadata": {},
   "source": [
    "---\n",
    "## Crop image by a GeoJSON or Shapefile\n",
    "Returns a cropped version of the input image corresponding to the polygon(s) in the input GeoJSON or Shapefile.\n",
    "\n",
    "**Parameters**:\n",
    "- `path_to_polygon_file` (str): path to the geojson or shapefile\n",
    "- `path_to_images` (list): a list containing the paths to the images cropping from\n",
    "- `output_names` (list): a list containing the output names for the cropped images. [**.tif** files]\n",
    "\n",
    "The sample below will be cropping with a shapefile"
   ]
  },
  {
   "cell_type": "code",
   "execution_count": 11,
   "id": "12698266",
   "metadata": {},
   "outputs": [
    {
     "data": {
      "text/plain": [
       "[PosixPath('/Volumes/BlueT7/bobcat_perimeter_wen/bobcat_perimeter_wen.shp')]"
      ]
     },
     "execution_count": 11,
     "metadata": {},
     "output_type": "execute_result"
    }
   ],
   "source": [
    "shp_dir = Path('/Volumes/BlueT7/bobcat_perimeter_wen')\n",
    "# shps = sorted(list(shp_dir.glob('./*.shp')))\n",
    "shps = sorted([shp for shp in shp_dir.glob('*.shp') if not shp.name.startswith('._')])\n",
    "shps"
   ]
  },
  {
   "cell_type": "code",
   "execution_count": 12,
   "id": "21463bff-be6f-4545-8498-5591405ab11f",
   "metadata": {},
   "outputs": [
    {
     "data": {
      "text/plain": [
       "'/Volumes/BlueT7/bobcat_perimeter_wen/bobcat_perimeter_wen.shp'"
      ]
     },
     "execution_count": 12,
     "metadata": {},
     "output_type": "execute_result"
    }
   ],
   "source": [
    "##shps = '../data/bobcat/uavsar_perimeter/bobcat_perimeter_bilinear_inc_south.geojson'\n",
    "shps = '/Volumes/BlueT7/bobcat_perimeter_wen/bobcat_perimeter_wen.shp'\n",
    "shps"
   ]
  },
  {
   "cell_type": "code",
   "execution_count": 13,
   "id": "5a1260af",
   "metadata": {},
   "outputs": [
    {
     "data": {
      "text/plain": [
       "[PosixPath('/Volumes/BlueT7/test_bob/SanAnd_08525_18076_003_181011_HVHV_rtc_cropped_25km.tif'),\n",
       " PosixPath('/Volumes/BlueT7/test_bob/SanAnd_08525_18076_003_181011_L090_CX_01_inc_25km.tif'),\n",
       " PosixPath('/Volumes/BlueT7/test_bob/SanAnd_08525_21065_014_211117_HVHV_rtc_cropped_25km.tif'),\n",
       " PosixPath('/Volumes/BlueT7/test_bob/SanAnd_08525_21065_014_211117_L090_CX_01_inc_25km.tif'),\n",
       " PosixPath('/Volumes/BlueT7/test_bob/SanAnd_08527_18001_010_180205_HVHV_rtc_cropped_25km.tif'),\n",
       " PosixPath('/Volumes/BlueT7/test_bob/SanAnd_08527_18001_010_180205_L090_CX_01_inc_25km.tif'),\n",
       " PosixPath('/Volumes/BlueT7/test_bob/SanAnd_08527_20029_004_201014_HVHV_rtc_cropped_25km.tif'),\n",
       " PosixPath('/Volumes/BlueT7/test_bob/SanAnd_08527_20029_004_201014_L090_CX_01_inc_25km.tif')]"
      ]
     },
     "execution_count": 13,
     "metadata": {},
     "output_type": "execute_result"
    }
   ],
   "source": [
    "data_dir = Path('/Volumes/BlueT7/test_bob/')\n",
    "# tifs = sorted(list(data_dir.glob('./*weighted*.tif')))\n",
    "# tifs = sorted(list(data_dir.glob('*.tif')))\n",
    "tifs = sorted([tif for tif in data_dir.glob('*.tif') if not tif.name.startswith('._')])\n",
    "\n",
    "tifs"
   ]
  },
  {
   "cell_type": "code",
   "execution_count": 14,
   "id": "5d7e63f9",
   "metadata": {},
   "outputs": [
    {
     "data": {
      "text/plain": [
       "['SanAnd_08525_18076_003_181011_HVHV_rtc_cropped_25km_perimeter_intersection_uavsar.tif',\n",
       " 'SanAnd_08525_18076_003_181011_L090_CX_01_inc_25km_perimeter_intersection_uavsar.tif',\n",
       " 'SanAnd_08525_21065_014_211117_HVHV_rtc_cropped_25km_perimeter_intersection_uavsar.tif',\n",
       " 'SanAnd_08525_21065_014_211117_L090_CX_01_inc_25km_perimeter_intersection_uavsar.tif',\n",
       " 'SanAnd_08527_18001_010_180205_HVHV_rtc_cropped_25km_perimeter_intersection_uavsar.tif',\n",
       " 'SanAnd_08527_18001_010_180205_L090_CX_01_inc_25km_perimeter_intersection_uavsar.tif',\n",
       " 'SanAnd_08527_20029_004_201014_HVHV_rtc_cropped_25km_perimeter_intersection_uavsar.tif',\n",
       " 'SanAnd_08527_20029_004_201014_L090_CX_01_inc_25km_perimeter_intersection_uavsar.tif']"
      ]
     },
     "execution_count": 14,
     "metadata": {},
     "output_type": "execute_result"
    }
   ],
   "source": [
    "path_to_polygon_file = shps\n",
    "path_to_images = tifs\n",
    "output_names = [file.stem + '_perimeter_intersection_uavsar.tif' for file in tifs]\n",
    "output_names"
   ]
  },
  {
   "cell_type": "markdown",
   "id": "ad93c2d6",
   "metadata": {},
   "source": [
    "---\n",
    "Now perform the cropping and the output will be saved at the working directory. Or you can edit `output_names` variable to set a location\n",
    "\n",
    "replace `path_to_polygon_file` with the geojson path if cropping by geojson"
   ]
  },
  {
   "cell_type": "code",
   "execution_count": 15,
   "id": "910f5202",
   "metadata": {
    "scrolled": true
   },
   "outputs": [
    {
     "name": "stdout",
     "output_type": "stream",
     "text": [
      "SanAnd_08525_18076_003_181011_HVHV_rtc_cropped_25km_perimeter_intersection_uavsar.tif is outputted.\n",
      "SanAnd_08525_18076_003_181011_L090_CX_01_inc_25km_perimeter_intersection_uavsar.tif is outputted.\n",
      "SanAnd_08525_21065_014_211117_HVHV_rtc_cropped_25km_perimeter_intersection_uavsar.tif is outputted.\n",
      "SanAnd_08525_21065_014_211117_L090_CX_01_inc_25km_perimeter_intersection_uavsar.tif is outputted.\n",
      "SanAnd_08527_18001_010_180205_HVHV_rtc_cropped_25km_perimeter_intersection_uavsar.tif is outputted.\n",
      "SanAnd_08527_18001_010_180205_L090_CX_01_inc_25km_perimeter_intersection_uavsar.tif is outputted.\n",
      "SanAnd_08527_20029_004_201014_HVHV_rtc_cropped_25km_perimeter_intersection_uavsar.tif is outputted.\n",
      "SanAnd_08527_20029_004_201014_L090_CX_01_inc_25km_perimeter_intersection_uavsar.tif is outputted.\n"
     ]
    }
   ],
   "source": [
    "for i in range(len(path_to_images)):\n",
    "    crop_image_by_geojson_shp(path_to_polygon_file,\n",
    "                              path_to_images[i], \n",
    "                              output_names[i])"
   ]
  },
  {
   "cell_type": "code",
   "execution_count": null,
   "id": "f7f931c5-c1db-4686-a2ac-e1ed0af4a0ae",
   "metadata": {},
   "outputs": [],
   "source": []
  },
  {
   "cell_type": "markdown",
   "id": "62cd358e",
   "metadata": {},
   "source": [
    "---\n",
    "## Reproject Raster image to another coordinate reference systems\n",
    "Used to reproject the MTBS burn severity map from ESRI:102039 to EPSG:4326, crs of UAVSAR data\n",
    "\n",
    "The output could be used to extract the burn severity map of a particular fire or area, using `crop_image_by_coordinates`, `crop_image_by_geojson`, or `crop_image_by_shp` from above\n",
    "\n",
    "**Parameters**\n",
    "- `target_crs` (CRS): the crs to reproject the image to\n",
    "- `input_raster_path` (str): path to the original raster image\n",
    "- `output_raster_path` (str): path for the reprojected raster image [**.tif** files]"
   ]
  },
  {
   "cell_type": "code",
   "execution_count": 16,
   "id": "6c4d9328",
   "metadata": {
    "scrolled": true
   },
   "outputs": [
    {
     "data": {
      "text/plain": [
       "[PosixPath('/Volumes/BlueT7/test_bob/._SanAnd_08525_18076_003_181011_HVHV_rtc_cropped_25km.tif'),\n",
       " PosixPath('/Volumes/BlueT7/test_bob/._SanAnd_08527_20029_004_201014_L090_CX_01_inc_25km.tif'),\n",
       " PosixPath('/Volumes/BlueT7/test_bob/SanAnd_08525_18076_003_181011_HVHV_rtc_cropped_25km.tif'),\n",
       " PosixPath('/Volumes/BlueT7/test_bob/SanAnd_08525_18076_003_181011_L090_CX_01_inc_25km.tif'),\n",
       " PosixPath('/Volumes/BlueT7/test_bob/SanAnd_08525_21065_014_211117_HVHV_rtc_cropped_25km.tif'),\n",
       " PosixPath('/Volumes/BlueT7/test_bob/SanAnd_08525_21065_014_211117_L090_CX_01_inc_25km.tif'),\n",
       " PosixPath('/Volumes/BlueT7/test_bob/SanAnd_08527_18001_010_180205_HVHV_rtc_cropped_25km.tif'),\n",
       " PosixPath('/Volumes/BlueT7/test_bob/SanAnd_08527_18001_010_180205_L090_CX_01_inc_25km.tif'),\n",
       " PosixPath('/Volumes/BlueT7/test_bob/SanAnd_08527_20029_004_201014_HVHV_rtc_cropped_25km.tif'),\n",
       " PosixPath('/Volumes/BlueT7/test_bob/SanAnd_08527_20029_004_201014_L090_CX_01_inc_25km.tif')]"
      ]
     },
     "execution_count": 16,
     "metadata": {},
     "output_type": "execute_result"
    }
   ],
   "source": [
    "data_dir = Path('/Volumes/BlueT7/test_bob/')\n",
    "tifs = sorted(list(data_dir.glob('./*.tif')))\n",
    "tifs"
   ]
  },
  {
   "cell_type": "code",
   "execution_count": 17,
   "id": "2be64663",
   "metadata": {
    "scrolled": true
   },
   "outputs": [],
   "source": [
    "target_crs = CRS.from_epsg(4326)   \n",
    "input_raster_path = tifs[0]\n",
    "output_raster_path = 'mtbs_CA_2009_crs4326.tif'"
   ]
  },
  {
   "cell_type": "markdown",
   "id": "bec2bb5d",
   "metadata": {},
   "source": [
    "---\n",
    "Now perform the cropping and the output will be saved at the working directory. Or you can edit `output_names` variable to set a location"
   ]
  },
  {
   "cell_type": "code",
   "execution_count": null,
   "id": "f92a5dd1",
   "metadata": {},
   "outputs": [],
   "source": [
    "reproject_geotiff(target_crs, input_raster_path, output_raster_path)"
   ]
  },
  {
   "cell_type": "code",
   "execution_count": null,
   "id": "504bcd04-4c45-407e-91f2-ba3c7b17d0ef",
   "metadata": {},
   "outputs": [],
   "source": []
  }
 ],
 "metadata": {
  "kernelspec": {
   "display_name": "classification",
   "language": "python",
   "name": "classification"
  },
  "language_info": {
   "codemirror_mode": {
    "name": "ipython",
    "version": 3
   },
   "file_extension": ".py",
   "mimetype": "text/x-python",
   "name": "python",
   "nbconvert_exporter": "python",
   "pygments_lexer": "ipython3",
   "version": "3.12.6"
  }
 },
 "nbformat": 4,
 "nbformat_minor": 5
}
