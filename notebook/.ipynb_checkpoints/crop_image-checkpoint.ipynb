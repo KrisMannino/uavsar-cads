{
 "cells": [
  {
   "cell_type": "markdown",
   "id": "4de20e4c",
   "metadata": {},
   "source": [
    "# Purpose:\n",
    "- For **Fire Perimeter**:\n",
    "    - Generate a circular polygon and crop the flight image based on that polygon\n",
    "- For **Burn Severity**:\n",
    "    - Crop the raster image based on input fire perimeter in GeoJSON (*product generated* or [CALFIRE](https://gis.data.ca.gov/datasets/CALFIRE-Forestry::california-fire-perimeters-all-1/explore)) or shapefile ([MTBS](https://www.mtbs.gov/viewer/index.html))\n",
    "- For **either**:\n",
    "    - Reproject a raster image to another coordinate reference systems (Check for burn severity raster images [MTBS](https://www.mtbs.gov/viewer/index.html))\n",
    "    \n",
    "***Due to GitHub file size limit, the post-RTC data is not available on this repository. Please following the steps in the 'radiometric_terrain_correction' repository to obtain the RTC data***\n",
    "\n",
    "Cropped RTC image is available for the application of the other 3 notebooks in this repo.\n"
   ]
  },
  {
   "cell_type": "code",
   "execution_count": 1,
   "id": "fbcc9b0b",
   "metadata": {},
   "outputs": [],
   "source": [
    "import sys\n",
    "from pathlib import Path\n",
    "\n",
    "# Add the path to the utils folder to sys.path\n",
    "utils_path = Path('../python').resolve()\n",
    "sys.path.append(str(utils_path))\n",
    "\n",
    "from pathlib import Path\n",
    "from rasterio.crs import CRS\n",
    "from crop_utils import (crop_image_by_coordinates, \n",
    "                        crop_image_by_geojson_shp, \n",
    "                        reproject_geotiff)"
   ]
  },
  {
   "cell_type": "markdown",
   "id": "e7ec7f83",
   "metadata": {},
   "source": [
    "---\n",
    "## Crop image by radius from center\n",
    "Returns a cropped version of the input image based intersection of the specificed circle\n",
    "\n",
    "**Parameters**:\n",
    "- `path_to_images` (list): a list containing the paths to the images cropping from \n",
    "- `output_names` (list): a list containing the output names for the cropped images [**.tif** files]\n",
    "- `center_longitude` (float): center longitude of the fire\n",
    "- `center_latitude` (float): center latitude of the fire\n",
    "- `radius_in_km` (float): radius from the coordinate in km to crop"
   ]
  },
  {
   "cell_type": "code",
   "execution_count": 2,
   "id": "2d85f0c1",
   "metadata": {},
   "outputs": [
    {
     "data": {
      "text/plain": [
       "[PosixPath('/Volumes/BlueT7/uavsar_wildfire_paths/Bobcat/SanAnd_08525_18076_003_181011_L090_CX_01/SanAnd_08525_18076_003_181011_HHHH_rtc.grd'),\n",
       " PosixPath('/Volumes/BlueT7/uavsar_wildfire_paths/Bobcat/SanAnd_08525_18076_003_181011_L090_CX_01/SanAnd_08525_18076_003_181011_HVHV_rtc.grd'),\n",
       " PosixPath('/Volumes/BlueT7/uavsar_wildfire_paths/Bobcat/SanAnd_08525_18076_003_181011_L090_CX_01/SanAnd_08525_18076_003_181011_VVVV_rtc.grd'),\n",
       " PosixPath('/Volumes/BlueT7/uavsar_wildfire_paths/Bobcat/SanAnd_08525_21065_014_211117_L090_CX_01/SanAnd_08525_21065_014_211117_HHHH_rtc.grd'),\n",
       " PosixPath('/Volumes/BlueT7/uavsar_wildfire_paths/Bobcat/SanAnd_08525_21065_014_211117_L090_CX_01/SanAnd_08525_21065_014_211117_HVHV_rtc.grd'),\n",
       " PosixPath('/Volumes/BlueT7/uavsar_wildfire_paths/Bobcat/SanAnd_08525_21065_014_211117_L090_CX_01/SanAnd_08525_21065_014_211117_VVVV_rtc.grd'),\n",
       " PosixPath('/Volumes/BlueT7/uavsar_wildfire_paths/Bobcat/SanAnd_08527_18001_010_180205_L090_CX_01/SanAnd_08527_18001_010_180205_HHHH_rtc.grd'),\n",
       " PosixPath('/Volumes/BlueT7/uavsar_wildfire_paths/Bobcat/SanAnd_08527_18001_010_180205_L090_CX_01/SanAnd_08527_18001_010_180205_HVHV_rtc.grd'),\n",
       " PosixPath('/Volumes/BlueT7/uavsar_wildfire_paths/Bobcat/SanAnd_08527_18001_010_180205_L090_CX_01/SanAnd_08527_18001_010_180205_VVVV_rtc.grd'),\n",
       " PosixPath('/Volumes/BlueT7/uavsar_wildfire_paths/Bobcat/SanAnd_08527_20029_004_201014_L090_CX_01/SanAnd_08527_20029_004_201014_HHHH_rtc.grd'),\n",
       " PosixPath('/Volumes/BlueT7/uavsar_wildfire_paths/Bobcat/SanAnd_08527_20029_004_201014_L090_CX_01/SanAnd_08527_20029_004_201014_HVHV_rtc.grd'),\n",
       " PosixPath('/Volumes/BlueT7/uavsar_wildfire_paths/Bobcat/SanAnd_08527_20029_004_201014_L090_CX_01/SanAnd_08527_20029_004_201014_VVVV_rtc.grd'),\n",
       " PosixPath('/Volumes/BlueT7/uavsar_wildfire_paths/Bobcat/SanAnd_26526_18076_002_181011_L090_CX_01/SanAnd_26526_18076_002_181011_HHHH_rtc.grd'),\n",
       " PosixPath('/Volumes/BlueT7/uavsar_wildfire_paths/Bobcat/SanAnd_26526_18076_002_181011_L090_CX_01/SanAnd_26526_18076_002_181011_HVHV_rtc.grd'),\n",
       " PosixPath('/Volumes/BlueT7/uavsar_wildfire_paths/Bobcat/SanAnd_26526_18076_002_181011_L090_CX_01/SanAnd_26526_18076_002_181011_VVVV_rtc.grd'),\n",
       " PosixPath('/Volumes/BlueT7/uavsar_wildfire_paths/Bobcat/SanAnd_26526_21065_013_211117_L090_CX_01/SanAnd_26526_21065_013_211117_HHHH_rtc.grd'),\n",
       " PosixPath('/Volumes/BlueT7/uavsar_wildfire_paths/Bobcat/SanAnd_26526_21065_013_211117_L090_CX_01/SanAnd_26526_21065_013_211117_HVHV_rtc.grd'),\n",
       " PosixPath('/Volumes/BlueT7/uavsar_wildfire_paths/Bobcat/SanAnd_26526_21065_013_211117_L090_CX_01/SanAnd_26526_21065_013_211117_VVVV_rtc.grd'),\n",
       " PosixPath('/Volumes/BlueT7/uavsar_wildfire_paths/Bobcat/SanAnd_26528_18001_009_180205_L090_CX_01/SanAnd_26528_18001_009_180205_HHHH_rtc.grd'),\n",
       " PosixPath('/Volumes/BlueT7/uavsar_wildfire_paths/Bobcat/SanAnd_26528_18001_009_180205_L090_CX_01/SanAnd_26528_18001_009_180205_HVHV_rtc.grd'),\n",
       " PosixPath('/Volumes/BlueT7/uavsar_wildfire_paths/Bobcat/SanAnd_26528_18001_009_180205_L090_CX_01/SanAnd_26528_18001_009_180205_VVVV_rtc.grd'),\n",
       " PosixPath('/Volumes/BlueT7/uavsar_wildfire_paths/Bobcat/SanAnd_26528_21065_015_211117_L090_CX_01/SanAnd_26528_21065_015_211117_HHHH_rtc.grd'),\n",
       " PosixPath('/Volumes/BlueT7/uavsar_wildfire_paths/Bobcat/SanAnd_26528_21065_015_211117_L090_CX_01/SanAnd_26528_21065_015_211117_HVHV_rtc.grd'),\n",
       " PosixPath('/Volumes/BlueT7/uavsar_wildfire_paths/Bobcat/SanAnd_26528_21065_015_211117_L090_CX_01/SanAnd_26528_21065_015_211117_VVVV_rtc.grd')]"
      ]
     },
     "execution_count": 2,
     "metadata": {},
     "output_type": "execute_result"
    }
   ],
   "source": [
    "data_dir = Path('/Volumes/BlueT7/test_folder/crop_image_run')\n",
    "tifs = sorted(list(data_dir.rglob('./*_rtc.grd')))\n",
    "tifs"
   ]
  },
  {
   "cell_type": "code",
   "execution_count": 6,
   "id": "08548b65",
   "metadata": {},
   "outputs": [
    {
     "name": "stdout",
     "output_type": "stream",
     "text": [
      "['/Volumes/BlueT7/test_folder/crop_image_run/SanAnd_08527_18001_010_180205_HHHH_rtc_cropped_5km.tif', '/Volumes/BlueT7/test_folder/crop_image_run/SanAnd_08527_18001_010_180205_HVHV_rtc_cropped_5km.tif', '/Volumes/BlueT7/test_folder/crop_image_run/SanAnd_08527_18001_010_180205_VVVV_rtc_cropped_5km.tif', '/Volumes/BlueT7/test_folder/crop_image_run/SanAnd_08527_20029_004_201014_HHHH_rtc_cropped_5km.tif', '/Volumes/BlueT7/test_folder/crop_image_run/SanAnd_08527_20029_004_201014_HVHV_rtc_cropped_5km.tif', '/Volumes/BlueT7/test_folder/crop_image_run/SanAnd_08527_20029_004_201014_VVVV_rtc_cropped_5km.tif']\n"
     ]
    }
   ],
   "source": [
    "path_to_images = tifs\n",
    "center_longitude = -112.050134\n",
    "center_latitude = 38.478988\n",
    "radius_in_km = 5\n",
    "output_names = [str(data_dir) + '/' + file.stem + '_cropped_' + str(radius_in_km) + 'km.tif' for file in path_to_images]\n",
    "print(output_names)##"
   ]
  },
  {
   "cell_type": "markdown",
   "id": "89ebf6da-5508-4bd4-9fb8-e61faaaffe5d",
   "metadata": {},
   "source": [
    "---\n",
    "Now perform the cropping and the output will be saved at the working directory. Or you can edit `output_names` variable to set a location"
   ]
  },
  {
   "cell_type": "code",
   "execution_count": 15,
   "id": "15972a4d-6427-45b8-ad51-91cb533d7a7a",
   "metadata": {
    "scrolled": true
   },
   "outputs": [
    {
     "ename": "RasterioIOError",
     "evalue": "'/Volumes/BlueT7/test_folder/crop_image_run/SanAnd_08527_18001_010_180205_HHHH_rtc.grd' not recognized as being in a supported file format.",
     "output_type": "error",
     "traceback": [
      "\u001b[0;31m---------------------------------------------------------------------------\u001b[0m",
      "\u001b[0;31mCPLE_OpenFailedError\u001b[0m                      Traceback (most recent call last)",
      "File \u001b[0;32mrasterio/_base.pyx:310\u001b[0m, in \u001b[0;36mrasterio._base.DatasetBase.__init__\u001b[0;34m()\u001b[0m\n",
      "File \u001b[0;32mrasterio/_base.pyx:221\u001b[0m, in \u001b[0;36mrasterio._base.open_dataset\u001b[0;34m()\u001b[0m\n",
      "File \u001b[0;32mrasterio/_err.pyx:221\u001b[0m, in \u001b[0;36mrasterio._err.exc_wrap_pointer\u001b[0;34m()\u001b[0m\n",
      "\u001b[0;31mCPLE_OpenFailedError\u001b[0m: '/Volumes/BlueT7/test_folder/crop_image_run/SanAnd_08527_18001_010_180205_HHHH_rtc.grd' not recognized as being in a supported file format.",
      "\nDuring handling of the above exception, another exception occurred:\n",
      "\u001b[0;31mRasterioIOError\u001b[0m                           Traceback (most recent call last)",
      "Cell \u001b[0;32mIn[15], line 2\u001b[0m\n\u001b[1;32m      1\u001b[0m \u001b[38;5;28;01mfor\u001b[39;00m i \u001b[38;5;129;01min\u001b[39;00m \u001b[38;5;28mrange\u001b[39m(\u001b[38;5;28mlen\u001b[39m(path_to_images)):\n\u001b[0;32m----> 2\u001b[0m     \u001b[43mcrop_image_by_coordinates\u001b[49m\u001b[43m(\u001b[49m\u001b[43mpath_to_images\u001b[49m\u001b[43m[\u001b[49m\u001b[43mi\u001b[49m\u001b[43m]\u001b[49m\u001b[43m,\u001b[49m\n\u001b[1;32m      3\u001b[0m \u001b[43m                              \u001b[49m\u001b[43moutput_names\u001b[49m\u001b[43m[\u001b[49m\u001b[43mi\u001b[49m\u001b[43m]\u001b[49m\u001b[43m,\u001b[49m\u001b[43m \u001b[49m\n\u001b[1;32m      4\u001b[0m \u001b[43m                              \u001b[49m\u001b[43mcenter_longitude\u001b[49m\u001b[43m,\u001b[49m\u001b[43m \u001b[49m\n\u001b[1;32m      5\u001b[0m \u001b[43m                              \u001b[49m\u001b[43mcenter_latitude\u001b[49m\u001b[43m,\u001b[49m\u001b[43m \u001b[49m\n\u001b[1;32m      6\u001b[0m \u001b[43m                              \u001b[49m\u001b[43mradius_in_km\u001b[49m\u001b[43m)\u001b[49m\n",
      "File \u001b[0;32m~/Code/CADS/IMPACT/uavsar-wildfire/python/crop_utils.py:56\u001b[0m, in \u001b[0;36mcrop_image_by_coordinates\u001b[0;34m(path_to_image, output_name, center_longitude, center_latitude, radius_in_km)\u001b[0m\n\u001b[1;32m     53\u001b[0m shapes \u001b[38;5;241m=\u001b[39m [mapping(aoi)]\n\u001b[1;32m     55\u001b[0m \u001b[38;5;66;03m# Crop the raster using the polygon\u001b[39;00m\n\u001b[0;32m---> 56\u001b[0m \u001b[38;5;28;01mwith\u001b[39;00m \u001b[43mrasterio\u001b[49m\u001b[38;5;241;43m.\u001b[39;49m\u001b[43mopen\u001b[49m\u001b[43m(\u001b[49m\u001b[43mpath_to_image\u001b[49m\u001b[43m)\u001b[49m \u001b[38;5;28;01mas\u001b[39;00m src:\n\u001b[1;32m     57\u001b[0m     out_image, out_transform \u001b[38;5;241m=\u001b[39m mask(dataset\u001b[38;5;241m=\u001b[39msrc, shapes\u001b[38;5;241m=\u001b[39mshapes, crop\u001b[38;5;241m=\u001b[39m\u001b[38;5;28;01mTrue\u001b[39;00m, pad\u001b[38;5;241m=\u001b[39m\u001b[38;5;28;01mTrue\u001b[39;00m)\n\u001b[1;32m     58\u001b[0m     out_meta \u001b[38;5;241m=\u001b[39m src\u001b[38;5;241m.\u001b[39mmeta\u001b[38;5;241m.\u001b[39mcopy()\n",
      "File \u001b[0;32m~/anaconda3/envs/classification/lib/python3.12/site-packages/rasterio/env.py:451\u001b[0m, in \u001b[0;36mensure_env_with_credentials.<locals>.wrapper\u001b[0;34m(*args, **kwds)\u001b[0m\n\u001b[1;32m    448\u001b[0m     session \u001b[38;5;241m=\u001b[39m DummySession()\n\u001b[1;32m    450\u001b[0m \u001b[38;5;28;01mwith\u001b[39;00m env_ctor(session\u001b[38;5;241m=\u001b[39msession):\n\u001b[0;32m--> 451\u001b[0m     \u001b[38;5;28;01mreturn\u001b[39;00m \u001b[43mf\u001b[49m\u001b[43m(\u001b[49m\u001b[38;5;241;43m*\u001b[39;49m\u001b[43margs\u001b[49m\u001b[43m,\u001b[49m\u001b[43m \u001b[49m\u001b[38;5;241;43m*\u001b[39;49m\u001b[38;5;241;43m*\u001b[39;49m\u001b[43mkwds\u001b[49m\u001b[43m)\u001b[49m\n",
      "File \u001b[0;32m~/anaconda3/envs/classification/lib/python3.12/site-packages/rasterio/__init__.py:304\u001b[0m, in \u001b[0;36mopen\u001b[0;34m(fp, mode, driver, width, height, count, crs, transform, dtype, nodata, sharing, **kwargs)\u001b[0m\n\u001b[1;32m    301\u001b[0m path \u001b[38;5;241m=\u001b[39m _parse_path(raw_dataset_path)\n\u001b[1;32m    303\u001b[0m \u001b[38;5;28;01mif\u001b[39;00m mode \u001b[38;5;241m==\u001b[39m \u001b[38;5;124m\"\u001b[39m\u001b[38;5;124mr\u001b[39m\u001b[38;5;124m\"\u001b[39m:\n\u001b[0;32m--> 304\u001b[0m     dataset \u001b[38;5;241m=\u001b[39m \u001b[43mDatasetReader\u001b[49m\u001b[43m(\u001b[49m\u001b[43mpath\u001b[49m\u001b[43m,\u001b[49m\u001b[43m \u001b[49m\u001b[43mdriver\u001b[49m\u001b[38;5;241;43m=\u001b[39;49m\u001b[43mdriver\u001b[49m\u001b[43m,\u001b[49m\u001b[43m \u001b[49m\u001b[43msharing\u001b[49m\u001b[38;5;241;43m=\u001b[39;49m\u001b[43msharing\u001b[49m\u001b[43m,\u001b[49m\u001b[43m \u001b[49m\u001b[38;5;241;43m*\u001b[39;49m\u001b[38;5;241;43m*\u001b[39;49m\u001b[43mkwargs\u001b[49m\u001b[43m)\u001b[49m\n\u001b[1;32m    305\u001b[0m \u001b[38;5;28;01melif\u001b[39;00m mode \u001b[38;5;241m==\u001b[39m \u001b[38;5;124m\"\u001b[39m\u001b[38;5;124mr+\u001b[39m\u001b[38;5;124m\"\u001b[39m:\n\u001b[1;32m    306\u001b[0m     dataset \u001b[38;5;241m=\u001b[39m get_writer_for_path(path, driver\u001b[38;5;241m=\u001b[39mdriver)(\n\u001b[1;32m    307\u001b[0m         path, mode, driver\u001b[38;5;241m=\u001b[39mdriver, sharing\u001b[38;5;241m=\u001b[39msharing, \u001b[38;5;241m*\u001b[39m\u001b[38;5;241m*\u001b[39mkwargs\n\u001b[1;32m    308\u001b[0m     )\n",
      "File \u001b[0;32mrasterio/_base.pyx:312\u001b[0m, in \u001b[0;36mrasterio._base.DatasetBase.__init__\u001b[0;34m()\u001b[0m\n",
      "\u001b[0;31mRasterioIOError\u001b[0m: '/Volumes/BlueT7/test_folder/crop_image_run/SanAnd_08527_18001_010_180205_HHHH_rtc.grd' not recognized as being in a supported file format."
     ]
    }
   ],
   "source": [
    "for i in range(len(path_to_images)):\n",
    "    crop_image_by_coordinates(path_to_images[i],\n",
    "                              output_names[i], \n",
    "                              center_longitude, \n",
    "                              center_latitude, \n",
    "                              radius_in_km)"
   ]
  },
  {
   "cell_type": "code",
   "execution_count": 16,
   "id": "80d56e36-4f64-433f-9976-6d98d076ab20",
   "metadata": {},
   "outputs": [
    {
     "data": {
      "text/plain": [
       "[]"
      ]
     },
     "execution_count": 16,
     "metadata": {},
     "output_type": "execute_result"
    }
   ],
   "source": [
    "##data_dir = Path('../data/latuna')\n",
    "incs = sorted(list(data_dir.rglob('./*.inc')))\n",
    "incs"
   ]
  },
  {
   "cell_type": "code",
   "execution_count": 17,
   "id": "e218e10e-b6cd-42db-a46f-c908b7d31d4d",
   "metadata": {},
   "outputs": [
    {
     "name": "stdout",
     "output_type": "stream",
     "text": [
      "['/Volumes/BlueT7/uavsar_wildfire_paths/SanAnd_08525_14158_003_141023_L090_CX_129A_02.flat_inc_5km.tif', '/Volumes/BlueT7/uavsar_wildfire_paths/SanAnd_08525_14158_003_141023_L090_CX_129A_02_inc_5km.tif']\n"
     ]
    }
   ],
   "source": [
    "path_to_images = incs\n",
    "##center_longitude = -118.2674\n",
    "##center_latitude = 34.22957\n",
    "##radius_in_km = 10\n",
    "output_names = [str(data_dir) + '/' + file.stem + '_inc_' + str(radius_in_km) + 'km.tif' for file in path_to_images]\n",
    "print(output_names)##"
   ]
  },
  {
   "cell_type": "markdown",
   "id": "074820ec",
   "metadata": {},
   "source": [
    "---\n",
    "Now perform the cropping and the output will be saved at the working directory. Or you can edit `output_names` variable to set a location"
   ]
  },
  {
   "cell_type": "code",
   "execution_count": 1,
   "id": "167de085",
   "metadata": {},
   "outputs": [],
   "source": [
    "for i in range(len(path_to_images)):\n",
    "    crop_image_by_coordinates(path_to_images[i],\n",
    "                              output_names[i], \n",
    "                              center_longitude, \n",
    "                              center_latitude, \n",
    "                              radius_in_km)"
   ]
  },
  {
   "cell_type": "markdown",
   "id": "de54a688",
   "metadata": {},
   "source": [
    "---\n",
    "## Crop image by a GeoJSON or Shapefile\n",
    "Returns a cropped version of the input image corresponding to the polygon(s) in the input GeoJSON or Shapefile.\n",
    "\n",
    "**Parameters**:\n",
    "- `path_to_polygon_file` (str): path to the geojson or shapefile\n",
    "- `path_to_images` (list): a list containing the paths to the images cropping from\n",
    "- `output_names` (list): a list containing the output names for the cropped images. [**.tif** files]\n",
    "\n",
    "The sample below will be cropping with a shapefile"
   ]
  },
  {
   "cell_type": "code",
   "execution_count": 7,
   "id": "12698266",
   "metadata": {},
   "outputs": [
    {
     "data": {
      "text/plain": [
       "[PosixPath('/Users/krismannino/Code/CADS/IMPACT/Bobcat_burn_perimeter/mtbs/2020/ca3424811795920200906/ca3424811795920200906_20200703_20210706_burn_bndy.shp'),\n",
       " PosixPath('/Users/krismannino/Code/CADS/IMPACT/Bobcat_burn_perimeter/mtbs/2020/ca3424811795920200906/ca3424811795920200906_20200703_20210706_mask.shp')]"
      ]
     },
     "execution_count": 7,
     "metadata": {},
     "output_type": "execute_result"
    }
   ],
   "source": [
    "shp_dir = Path('/Users/krismannino/Code/CADS/IMPACT/Bobcat_burn_perimeter/mtbs/2020/ca3424811795920200906')\n",
    "shps = sorted(list(shp_dir.glob('./*.shp')))\n",
    "shps"
   ]
  },
  {
   "cell_type": "code",
   "execution_count": 8,
   "id": "21463bff-be6f-4545-8498-5591405ab11f",
   "metadata": {},
   "outputs": [
    {
     "data": {
      "text/plain": [
       "'/Users/krismannino/Code/CADS/IMPACT/Bobcat_burn_perimeter/mtbs/2020/ca3424811795920200906/ca3424811795920200906_20200703_20210706_burn_bndy.shp'"
      ]
     },
     "execution_count": 8,
     "metadata": {},
     "output_type": "execute_result"
    }
   ],
   "source": [
    "##shps = '../data/bobcat/uavsar_perimeter/bobcat_perimeter_bilinear_inc_south.geojson'\n",
    "shps = '/Users/krismannino/Code/CADS/IMPACT/Bobcat_burn_perimeter/mtbs/2020/ca3424811795920200906/ca3424811795920200906_20200703_20210706_burn_bndy.shp'\n",
    "shps"
   ]
  },
  {
   "cell_type": "code",
   "execution_count": 10,
   "id": "5a1260af",
   "metadata": {},
   "outputs": [
    {
     "data": {
      "text/plain": [
       "[PosixPath('/Users/krismannino/Code/CADS/IMPACT/Bobcat_burn_perimeter/mtbs/2020/ca3424811795920200906/ca3424811795920200906_20200703_20210706_dnbr.tif'),\n",
       " PosixPath('/Users/krismannino/Code/CADS/IMPACT/Bobcat_burn_perimeter/mtbs/2020/ca3424811795920200906/ca3424811795920200906_20200703_20210706_dnbr6.tif'),\n",
       " PosixPath('/Users/krismannino/Code/CADS/IMPACT/Bobcat_burn_perimeter/mtbs/2020/ca3424811795920200906/ca3424811795920200906_20200703_20210706_rdnbr.tif'),\n",
       " PosixPath('/Users/krismannino/Code/CADS/IMPACT/Bobcat_burn_perimeter/mtbs/2020/ca3424811795920200906/ca3424811795920200906_20200703_L8_refl.tif'),\n",
       " PosixPath('/Users/krismannino/Code/CADS/IMPACT/Bobcat_burn_perimeter/mtbs/2020/ca3424811795920200906/ca3424811795920200906_20201007_L8_refl.tif'),\n",
       " PosixPath('/Users/krismannino/Code/CADS/IMPACT/Bobcat_burn_perimeter/mtbs/2020/ca3424811795920200906/ca3424811795920200906_20210706_L8_refl.tif')]"
      ]
     },
     "execution_count": 10,
     "metadata": {},
     "output_type": "execute_result"
    }
   ],
   "source": [
    "data_dir = Path('/Users/krismannino/Code/CADS/IMPACT/Bobcat_burn_perimeter/mtbs/2020/ca3424811795920200906')\n",
    "# tifs = sorted(list(data_dir.glob('./*weighted*.tif')))\n",
    "tifs = sorted(list(data_dir.glob('*.tif')))\n",
    "\n",
    "tifs"
   ]
  },
  {
   "cell_type": "code",
   "execution_count": 11,
   "id": "5d7e63f9",
   "metadata": {},
   "outputs": [
    {
     "data": {
      "text/plain": [
       "['ca3424811795920200906_20200703_20210706_dnbr_perimeter_intersection_uavsar.tif',\n",
       " 'ca3424811795920200906_20200703_20210706_dnbr6_perimeter_intersection_uavsar.tif',\n",
       " 'ca3424811795920200906_20200703_20210706_rdnbr_perimeter_intersection_uavsar.tif',\n",
       " 'ca3424811795920200906_20200703_L8_refl_perimeter_intersection_uavsar.tif',\n",
       " 'ca3424811795920200906_20201007_L8_refl_perimeter_intersection_uavsar.tif',\n",
       " 'ca3424811795920200906_20210706_L8_refl_perimeter_intersection_uavsar.tif']"
      ]
     },
     "execution_count": 11,
     "metadata": {},
     "output_type": "execute_result"
    }
   ],
   "source": [
    "path_to_polygon_file = shps\n",
    "path_to_images = tifs\n",
    "output_names = [file.stem + '_perimeter_intersection_uavsar.tif' for file in tifs]\n",
    "output_names"
   ]
  },
  {
   "cell_type": "markdown",
   "id": "ad93c2d6",
   "metadata": {},
   "source": [
    "---\n",
    "Now perform the cropping and the output will be saved at the working directory. Or you can edit `output_names` variable to set a location\n",
    "\n",
    "replace `path_to_polygon_file` with the geojson path if cropping by geojson"
   ]
  },
  {
   "cell_type": "code",
   "execution_count": 12,
   "id": "910f5202",
   "metadata": {},
   "outputs": [
    {
     "ename": "ValueError",
     "evalue": "Input shapes do not overlap raster.",
     "output_type": "error",
     "traceback": [
      "\u001b[0;31m---------------------------------------------------------------------------\u001b[0m",
      "\u001b[0;31mWindowError\u001b[0m                               Traceback (most recent call last)",
      "File \u001b[0;32m~/anaconda3/envs/classification/lib/python3.12/site-packages/rasterio/mask.py:80\u001b[0m, in \u001b[0;36mraster_geometry_mask\u001b[0;34m(dataset, shapes, all_touched, invert, crop, pad, pad_width)\u001b[0m\n\u001b[1;32m     79\u001b[0m \u001b[38;5;28;01mtry\u001b[39;00m:\n\u001b[0;32m---> 80\u001b[0m     window \u001b[38;5;241m=\u001b[39m \u001b[43mgeometry_window\u001b[49m\u001b[43m(\u001b[49m\u001b[43mdataset\u001b[49m\u001b[43m,\u001b[49m\u001b[43m \u001b[49m\u001b[43mshapes\u001b[49m\u001b[43m,\u001b[49m\u001b[43m \u001b[49m\u001b[43mpad_x\u001b[49m\u001b[38;5;241;43m=\u001b[39;49m\u001b[43mpad_x\u001b[49m\u001b[43m,\u001b[49m\u001b[43m \u001b[49m\u001b[43mpad_y\u001b[49m\u001b[38;5;241;43m=\u001b[39;49m\u001b[43mpad_y\u001b[49m\u001b[43m)\u001b[49m\n\u001b[1;32m     82\u001b[0m \u001b[38;5;28;01mexcept\u001b[39;00m WindowError:\n\u001b[1;32m     83\u001b[0m     \u001b[38;5;66;03m# If shapes do not overlap raster, raise Exception or UserWarning\u001b[39;00m\n\u001b[1;32m     84\u001b[0m     \u001b[38;5;66;03m# depending on value of crop\u001b[39;00m\n",
      "File \u001b[0;32m~/anaconda3/envs/classification/lib/python3.12/site-packages/rasterio/features.py:477\u001b[0m, in \u001b[0;36mgeometry_window\u001b[0;34m(dataset, shapes, pad_x, pad_y, north_up, rotated, pixel_precision, boundless)\u001b[0m\n\u001b[1;32m    476\u001b[0m \u001b[38;5;28;01mif\u001b[39;00m \u001b[38;5;129;01mnot\u001b[39;00m boundless:\n\u001b[0;32m--> 477\u001b[0m     window \u001b[38;5;241m=\u001b[39m \u001b[43mwindow\u001b[49m\u001b[38;5;241;43m.\u001b[39;49m\u001b[43mintersection\u001b[49m\u001b[43m(\u001b[49m\u001b[43mraster_window\u001b[49m\u001b[43m)\u001b[49m\n\u001b[1;32m    479\u001b[0m \u001b[38;5;28;01mreturn\u001b[39;00m window\n",
      "File \u001b[0;32m~/anaconda3/envs/classification/lib/python3.12/site-packages/rasterio/windows.py:775\u001b[0m, in \u001b[0;36mWindow.intersection\u001b[0;34m(self, other)\u001b[0m\n\u001b[1;32m    763\u001b[0m \u001b[38;5;250m\u001b[39m\u001b[38;5;124;03m\"\"\"Return the intersection of this window and another\u001b[39;00m\n\u001b[1;32m    764\u001b[0m \n\u001b[1;32m    765\u001b[0m \u001b[38;5;124;03mParameters\u001b[39;00m\n\u001b[0;32m   (...)\u001b[0m\n\u001b[1;32m    773\u001b[0m \u001b[38;5;124;03mWindow\u001b[39;00m\n\u001b[1;32m    774\u001b[0m \u001b[38;5;124;03m\"\"\"\u001b[39;00m\n\u001b[0;32m--> 775\u001b[0m \u001b[38;5;28;01mreturn\u001b[39;00m \u001b[43mintersection\u001b[49m\u001b[43m(\u001b[49m\u001b[43m[\u001b[49m\u001b[38;5;28;43mself\u001b[39;49m\u001b[43m,\u001b[49m\u001b[43m \u001b[49m\u001b[43mother\u001b[49m\u001b[43m]\u001b[49m\u001b[43m)\u001b[49m\n",
      "File \u001b[0;32m~/anaconda3/envs/classification/lib/python3.12/site-packages/rasterio/windows.py:125\u001b[0m, in \u001b[0;36miter_args.<locals>.wrapper\u001b[0;34m(*args, **kwargs)\u001b[0m\n\u001b[1;32m    124\u001b[0m \u001b[38;5;28;01mif\u001b[39;00m \u001b[38;5;28mlen\u001b[39m(args) \u001b[38;5;241m==\u001b[39m \u001b[38;5;241m1\u001b[39m \u001b[38;5;129;01mand\u001b[39;00m \u001b[38;5;28misinstance\u001b[39m(args[\u001b[38;5;241m0\u001b[39m], Iterable):\n\u001b[0;32m--> 125\u001b[0m     \u001b[38;5;28;01mreturn\u001b[39;00m \u001b[43mfunction\u001b[49m\u001b[43m(\u001b[49m\u001b[38;5;241;43m*\u001b[39;49m\u001b[43margs\u001b[49m\u001b[43m[\u001b[49m\u001b[38;5;241;43m0\u001b[39;49m\u001b[43m]\u001b[49m\u001b[43m)\u001b[49m\n\u001b[1;32m    126\u001b[0m \u001b[38;5;28;01melse\u001b[39;00m:\n",
      "File \u001b[0;32m~/anaconda3/envs/classification/lib/python3.12/site-packages/rasterio/windows.py:239\u001b[0m, in \u001b[0;36mintersection\u001b[0;34m(*windows)\u001b[0m\n\u001b[1;32m    226\u001b[0m \u001b[38;5;250m\u001b[39m\u001b[38;5;124;03m\"\"\"Innermost extent of window intersections.\u001b[39;00m\n\u001b[1;32m    227\u001b[0m \n\u001b[1;32m    228\u001b[0m \u001b[38;5;124;03mWill raise WindowError if windows do not intersect.\u001b[39;00m\n\u001b[0;32m   (...)\u001b[0m\n\u001b[1;32m    237\u001b[0m \u001b[38;5;124;03mWindow\u001b[39;00m\n\u001b[1;32m    238\u001b[0m \u001b[38;5;124;03m\"\"\"\u001b[39;00m\n\u001b[0;32m--> 239\u001b[0m \u001b[38;5;28;01mreturn\u001b[39;00m \u001b[43mfunctools\u001b[49m\u001b[38;5;241;43m.\u001b[39;49m\u001b[43mreduce\u001b[49m\u001b[43m(\u001b[49m\u001b[43m_intersection\u001b[49m\u001b[43m,\u001b[49m\u001b[43m \u001b[49m\u001b[43mwindows\u001b[49m\u001b[43m)\u001b[49m\n",
      "File \u001b[0;32m~/anaconda3/envs/classification/lib/python3.12/site-packages/rasterio/windows.py:257\u001b[0m, in \u001b[0;36m_intersection\u001b[0;34m(w1, w2)\u001b[0m\n\u001b[1;32m    256\u001b[0m \u001b[38;5;28;01melse\u001b[39;00m:\n\u001b[0;32m--> 257\u001b[0m     \u001b[38;5;28;01mraise\u001b[39;00m WindowError(\u001b[38;5;124mf\u001b[39m\u001b[38;5;124m\"\u001b[39m\u001b[38;5;124mIntersection is empty \u001b[39m\u001b[38;5;132;01m{\u001b[39;00mw1\u001b[38;5;132;01m}\u001b[39;00m\u001b[38;5;124m \u001b[39m\u001b[38;5;132;01m{\u001b[39;00mw2\u001b[38;5;132;01m}\u001b[39;00m\u001b[38;5;124m\"\u001b[39m)\n",
      "\u001b[0;31mWindowError\u001b[0m: Intersection is empty Window(col_off=66830, row_off=50093, width=2, height=2) Window(col_off=0, row_off=0, width=1360, height=1364)",
      "\nDuring handling of the above exception, another exception occurred:\n",
      "\u001b[0;31mValueError\u001b[0m                                Traceback (most recent call last)",
      "Cell \u001b[0;32mIn[12], line 2\u001b[0m\n\u001b[1;32m      1\u001b[0m \u001b[38;5;28;01mfor\u001b[39;00m i \u001b[38;5;129;01min\u001b[39;00m \u001b[38;5;28mrange\u001b[39m(\u001b[38;5;28mlen\u001b[39m(path_to_images)):\n\u001b[0;32m----> 2\u001b[0m     \u001b[43mcrop_image_by_geojson_shp\u001b[49m\u001b[43m(\u001b[49m\u001b[43mpath_to_polygon_file\u001b[49m\u001b[43m,\u001b[49m\n\u001b[1;32m      3\u001b[0m \u001b[43m                              \u001b[49m\u001b[43mpath_to_images\u001b[49m\u001b[43m[\u001b[49m\u001b[43mi\u001b[49m\u001b[43m]\u001b[49m\u001b[43m,\u001b[49m\u001b[43m \u001b[49m\n\u001b[1;32m      4\u001b[0m \u001b[43m                              \u001b[49m\u001b[43moutput_names\u001b[49m\u001b[43m[\u001b[49m\u001b[43mi\u001b[49m\u001b[43m]\u001b[49m\u001b[43m)\u001b[49m\n",
      "File \u001b[0;32m~/Code/CADS/IMPACT/uavsar-wildfire/python/crop_utils.py:108\u001b[0m, in \u001b[0;36mcrop_image_by_geojson_shp\u001b[0;34m(path_to_polygon_file, path_to_image, output_name)\u001b[0m\n\u001b[1;32m    105\u001b[0m shapes \u001b[38;5;241m=\u001b[39m [mapping(polygon)]\n\u001b[1;32m    107\u001b[0m \u001b[38;5;28;01mwith\u001b[39;00m rasterio\u001b[38;5;241m.\u001b[39mopen(path_to_image) \u001b[38;5;28;01mas\u001b[39;00m src:\n\u001b[0;32m--> 108\u001b[0m     out_image, out_transform \u001b[38;5;241m=\u001b[39m \u001b[43mmask\u001b[49m\u001b[43m(\u001b[49m\u001b[43mdataset\u001b[49m\u001b[38;5;241;43m=\u001b[39;49m\u001b[43msrc\u001b[49m\u001b[43m,\u001b[49m\u001b[43m \u001b[49m\u001b[43mshapes\u001b[49m\u001b[38;5;241;43m=\u001b[39;49m\u001b[43mshapes\u001b[49m\u001b[43m,\u001b[49m\u001b[43m \u001b[49m\u001b[43mcrop\u001b[49m\u001b[38;5;241;43m=\u001b[39;49m\u001b[38;5;28;43;01mTrue\u001b[39;49;00m\u001b[43m,\u001b[49m\u001b[43m \u001b[49m\u001b[43mpad\u001b[49m\u001b[38;5;241;43m=\u001b[39;49m\u001b[38;5;28;43;01mTrue\u001b[39;49;00m\u001b[43m)\u001b[49m\n\u001b[1;32m    109\u001b[0m     out_meta \u001b[38;5;241m=\u001b[39m src\u001b[38;5;241m.\u001b[39mmeta\u001b[38;5;241m.\u001b[39mcopy()\n\u001b[1;32m    111\u001b[0m out_meta\u001b[38;5;241m.\u001b[39mupdate({\u001b[38;5;124m\"\u001b[39m\u001b[38;5;124mdriver\u001b[39m\u001b[38;5;124m\"\u001b[39m: \u001b[38;5;124m\"\u001b[39m\u001b[38;5;124mGTiff\u001b[39m\u001b[38;5;124m\"\u001b[39m,\n\u001b[1;32m    112\u001b[0m                  \u001b[38;5;124m\"\u001b[39m\u001b[38;5;124mnodata\u001b[39m\u001b[38;5;124m\"\u001b[39m: np\u001b[38;5;241m.\u001b[39mnan,\n\u001b[1;32m    113\u001b[0m                  \u001b[38;5;124m\"\u001b[39m\u001b[38;5;124mheight\u001b[39m\u001b[38;5;124m\"\u001b[39m: out_image\u001b[38;5;241m.\u001b[39mshape[\u001b[38;5;241m1\u001b[39m],\n\u001b[1;32m    114\u001b[0m                  \u001b[38;5;124m\"\u001b[39m\u001b[38;5;124mwidth\u001b[39m\u001b[38;5;124m\"\u001b[39m: out_image\u001b[38;5;241m.\u001b[39mshape[\u001b[38;5;241m2\u001b[39m],\n\u001b[1;32m    115\u001b[0m                  \u001b[38;5;124m\"\u001b[39m\u001b[38;5;124mtransform\u001b[39m\u001b[38;5;124m\"\u001b[39m: out_transform})\n",
      "File \u001b[0;32m~/anaconda3/envs/classification/lib/python3.12/site-packages/rasterio/mask.py:178\u001b[0m, in \u001b[0;36mmask\u001b[0;34m(dataset, shapes, all_touched, invert, nodata, filled, crop, pad, pad_width, indexes)\u001b[0m\n\u001b[1;32m    175\u001b[0m     \u001b[38;5;28;01melse\u001b[39;00m:\n\u001b[1;32m    176\u001b[0m         nodata \u001b[38;5;241m=\u001b[39m \u001b[38;5;241m0\u001b[39m\n\u001b[0;32m--> 178\u001b[0m shape_mask, transform, window \u001b[38;5;241m=\u001b[39m \u001b[43mraster_geometry_mask\u001b[49m\u001b[43m(\u001b[49m\n\u001b[1;32m    179\u001b[0m \u001b[43m    \u001b[49m\u001b[43mdataset\u001b[49m\u001b[43m,\u001b[49m\u001b[43m \u001b[49m\u001b[43mshapes\u001b[49m\u001b[43m,\u001b[49m\u001b[43m \u001b[49m\u001b[43mall_touched\u001b[49m\u001b[38;5;241;43m=\u001b[39;49m\u001b[43mall_touched\u001b[49m\u001b[43m,\u001b[49m\u001b[43m \u001b[49m\u001b[43minvert\u001b[49m\u001b[38;5;241;43m=\u001b[39;49m\u001b[43minvert\u001b[49m\u001b[43m,\u001b[49m\u001b[43m \u001b[49m\u001b[43mcrop\u001b[49m\u001b[38;5;241;43m=\u001b[39;49m\u001b[43mcrop\u001b[49m\u001b[43m,\u001b[49m\n\u001b[1;32m    180\u001b[0m \u001b[43m    \u001b[49m\u001b[43mpad\u001b[49m\u001b[38;5;241;43m=\u001b[39;49m\u001b[43mpad\u001b[49m\u001b[43m,\u001b[49m\u001b[43m \u001b[49m\u001b[43mpad_width\u001b[49m\u001b[38;5;241;43m=\u001b[39;49m\u001b[43mpad_width\u001b[49m\u001b[43m)\u001b[49m\n\u001b[1;32m    182\u001b[0m \u001b[38;5;28;01mif\u001b[39;00m indexes \u001b[38;5;129;01mis\u001b[39;00m \u001b[38;5;28;01mNone\u001b[39;00m:\n\u001b[1;32m    183\u001b[0m     out_shape \u001b[38;5;241m=\u001b[39m (dataset\u001b[38;5;241m.\u001b[39mcount, ) \u001b[38;5;241m+\u001b[39m shape_mask\u001b[38;5;241m.\u001b[39mshape\n",
      "File \u001b[0;32m~/anaconda3/envs/classification/lib/python3.12/site-packages/rasterio/mask.py:86\u001b[0m, in \u001b[0;36mraster_geometry_mask\u001b[0;34m(dataset, shapes, all_touched, invert, crop, pad, pad_width)\u001b[0m\n\u001b[1;32m     82\u001b[0m \u001b[38;5;28;01mexcept\u001b[39;00m WindowError:\n\u001b[1;32m     83\u001b[0m     \u001b[38;5;66;03m# If shapes do not overlap raster, raise Exception or UserWarning\u001b[39;00m\n\u001b[1;32m     84\u001b[0m     \u001b[38;5;66;03m# depending on value of crop\u001b[39;00m\n\u001b[1;32m     85\u001b[0m     \u001b[38;5;28;01mif\u001b[39;00m crop:\n\u001b[0;32m---> 86\u001b[0m         \u001b[38;5;28;01mraise\u001b[39;00m \u001b[38;5;167;01mValueError\u001b[39;00m(\u001b[38;5;124m'\u001b[39m\u001b[38;5;124mInput shapes do not overlap raster.\u001b[39m\u001b[38;5;124m'\u001b[39m)\n\u001b[1;32m     87\u001b[0m     \u001b[38;5;28;01melse\u001b[39;00m:\n\u001b[1;32m     88\u001b[0m         warnings\u001b[38;5;241m.\u001b[39mwarn(\u001b[38;5;124m'\u001b[39m\u001b[38;5;124mshapes are outside bounds of raster. \u001b[39m\u001b[38;5;124m'\u001b[39m\n\u001b[1;32m     89\u001b[0m                       \u001b[38;5;124m'\u001b[39m\u001b[38;5;124mAre they in different coordinate reference systems?\u001b[39m\u001b[38;5;124m'\u001b[39m)\n",
      "\u001b[0;31mValueError\u001b[0m: Input shapes do not overlap raster."
     ]
    }
   ],
   "source": [
    "for i in range(len(path_to_images)):\n",
    "    crop_image_by_geojson_shp(path_to_polygon_file,\n",
    "                              path_to_images[i], \n",
    "                              output_names[i])"
   ]
  },
  {
   "cell_type": "markdown",
   "id": "62cd358e",
   "metadata": {},
   "source": [
    "---\n",
    "## Reproject Raster image to another coordinate reference systems\n",
    "Used to reproject the MTBS burn severity map from ESRI:102039 to EPSG:4326, crs of UAVSAR data\n",
    "\n",
    "The output could be used to extract the burn severity map of a particular fire or area, using `crop_image_by_coordinates`, `crop_image_by_geojson`, or `crop_image_by_shp` from above\n",
    "\n",
    "**Parameters**\n",
    "- `target_crs` (CRS): the crs to reproject the image to\n",
    "- `input_raster_path` (str): path to the original raster image\n",
    "- `output_raster_path` (str): path for the reprojected raster image [**.tif** files]"
   ]
  },
  {
   "cell_type": "code",
   "execution_count": null,
   "id": "6c4d9328",
   "metadata": {},
   "outputs": [],
   "source": [
    "data_dir = Path('../data/MTBS_sbs')\n",
    "tifs = sorted(list(data_dir.glob('./*.tif')))\n",
    "tifs"
   ]
  },
  {
   "cell_type": "code",
   "execution_count": null,
   "id": "2be64663",
   "metadata": {
    "scrolled": true
   },
   "outputs": [],
   "source": [
    "target_crs = CRS.from_epsg(4326)   \n",
    "input_raster_path = tifs[0]\n",
    "output_raster_path = 'mtbs_CA_2009_crs4326.tif'"
   ]
  },
  {
   "cell_type": "markdown",
   "id": "bec2bb5d",
   "metadata": {},
   "source": [
    "---\n",
    "Now perform the cropping and the output will be saved at the working directory. Or you can edit `output_names` variable to set a location"
   ]
  },
  {
   "cell_type": "code",
   "execution_count": null,
   "id": "f92a5dd1",
   "metadata": {},
   "outputs": [],
   "source": [
    "reproject_geotiff(target_crs, input_raster_path, output_raster_path)"
   ]
  }
 ],
 "metadata": {
  "kernelspec": {
   "display_name": "classification",
   "language": "python",
   "name": "classification"
  },
  "language_info": {
   "codemirror_mode": {
    "name": "ipython",
    "version": 3
   },
   "file_extension": ".py",
   "mimetype": "text/x-python",
   "name": "python",
   "nbconvert_exporter": "python",
   "pygments_lexer": "ipython3",
   "version": "3.12.6"
  }
 },
 "nbformat": 4,
 "nbformat_minor": 5
}
