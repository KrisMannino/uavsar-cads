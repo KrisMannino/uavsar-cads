{
 "cells": [
  {
   "cell_type": "markdown",
   "id": "3e1fa014",
   "metadata": {},
   "source": [
    "# Purpose: \n",
    "- Preprocess and save the post-RTC image\n",
    "- Partition the image into multiple segments and save the label as a np.array"
   ]
  },
  {
   "cell_type": "code",
   "execution_count": 8,
   "id": "15985db4",
   "metadata": {},
   "outputs": [],
   "source": [
    "import sys\n",
    "from pathlib import Path\n",
    "\n",
    "# Add the path to the utils folder to sys.path\n",
    "utils_path = Path('../python').resolve()\n",
    "sys.path.append(str(utils_path))\n",
    "\n",
    "import rasterio\n",
    "import numpy as np\n",
    "from pathlib import Path\n",
    "from process_utils import (preprocess_data,\n",
    "                           superpixel_segmentation)\n",
    "from rio_utils import (reproject_arr_to_match_profile)\n",
    "from edit_path_utils import (edit_paths)"
   ]
  },
  {
   "cell_type": "markdown",
   "id": "9d9a1b80",
   "metadata": {},
   "source": [
    "---\n",
    "## Load the images into arrays\n",
    "\n",
    "**Parameter**:\n",
    "- `tifs` (list): a list containing the paths to the images"
   ]
  },
  {
   "cell_type": "code",
   "execution_count": 9,
   "id": "21266cf3",
   "metadata": {},
   "outputs": [],
   "source": [
    "# Opens a GeoTIFF and loads the backscatter values and profile\n",
    "def open_one(path):\n",
    "    with rasterio.open(path) as ds:\n",
    "        band = ds.read(1)\n",
    "        profile = ds.profile\n",
    "    return band, profile"
   ]
  },
  {
   "cell_type": "code",
   "execution_count": 10,
   "id": "fa2b3e93",
   "metadata": {},
   "outputs": [
    {
     "data": {
      "text/plain": [
       "[PosixPath('/Volumes/BlackT7/bobcat_flight_paths/bobcat_26526_08525_hv_0.tif'),\n",
       " PosixPath('/Volumes/BlackT7/bobcat_flight_paths/bobcat_26526_08525_hv_1.tif')]"
      ]
     },
     "execution_count": 10,
     "metadata": {},
     "output_type": "execute_result"
    }
   ],
   "source": [
    "# Path to the folder with the cropped images\n",
    "data_dir = Path('/Volumes/BlackT7/bobcat_flight_paths')\n",
    "tifs = sorted(list(data_dir.glob('./*26526_08525*.tif')))\n",
    "# tifs = sorted([tif for tif in data_dir.glob('./*rtc_cropped*.tif') if 'preprocessed' not in tif.name])\n",
    "\n",
    "# adjust for wanted and unwanted tifs\n",
    "include = [\n",
    "            \"181011\"\n",
    "          ]\n",
    "exclude = [\n",
    "            \"hello\"\n",
    "          ]\n",
    "\n",
    "tifs = edit_paths(include,exclude,tifs)\n",
    "print(*tifs, sep=\"\\n\")"
   ]
  },
  {
   "cell_type": "markdown",
   "id": "81a4db59",
   "metadata": {},
   "source": [
    "---\n",
    "Open the raster images and preprocess them.\n",
    "\n",
    "Let `hv_0` and `profile_0` correspond to the pre-fire image, and `hv_1` and `profile_1` correspond to the post-fire image"
   ]
  },
  {
   "cell_type": "code",
   "execution_count": 12,
   "id": "77c48d1f",
   "metadata": {},
   "outputs": [],
   "source": [
    "# Open the tifs\n",
    "bands, profiles = zip(*map(open_one, tifs))\n",
    "hv_0 = bands[0]\n",
    "hv_1 = bands[1]\n",
    "profile_0 = profiles[0]\n",
    "profile_1 = profiles[1]"
   ]
  },
  {
   "cell_type": "markdown",
   "id": "d75a0cf0",
   "metadata": {},
   "source": [
    "---\n",
    "## Preprocess the image\n",
    "Applies interpolation, clipping, total-variation denoising, and background mask\n",
    "\n",
    "**Parameters**\n",
    "- `interpolation` (bool): whether or not to perform nearest neighbor interpolation for the preprocessing\n",
    "- `weight` (float): denoising weight. The greater the weight, the more denoising (at the expense of fidelity to image). "
   ]
  },
  {
   "cell_type": "code",
   "execution_count": 13,
   "id": "00157735",
   "metadata": {},
   "outputs": [],
   "source": [
    "interpolation = False\n",
    "weight = 5"
   ]
  },
  {
   "cell_type": "code",
   "execution_count": 14,
   "id": "a79a86f5",
   "metadata": {},
   "outputs": [
    {
     "name": "stdout",
     "output_type": "stream",
     "text": [
      "Preprocessing done\n"
     ]
    }
   ],
   "source": [
    "hv_0 = preprocess_data(hv_0, interpolation, weight)\n",
    "hv_1 = preprocess_data(hv_1, interpolation, weight)\n",
    "print(\"Preprocessing done\")"
   ]
  },
  {
   "cell_type": "markdown",
   "id": "e38df8ff",
   "metadata": {},
   "source": [
    "---\n",
    "Reprojecting the array to match the profile of pre- and post- fire images, so arithmetic could be performed"
   ]
  },
  {
   "cell_type": "code",
   "execution_count": 15,
   "id": "c9739b20",
   "metadata": {},
   "outputs": [
    {
     "name": "stdout",
     "output_type": "stream",
     "text": [
      "Reproject done\n"
     ]
    }
   ],
   "source": [
    "# reproject the later flight to match the profile of the earlier flight\n",
    "hv_1, _ = reproject_arr_to_match_profile(hv_1, profile_1, profile_0, resampling='bilinear')\n",
    "hv_1 = hv_1[0]  # getting back to 2-D\n",
    "print(\"Reproject done\")"
   ]
  },
  {
   "cell_type": "markdown",
   "id": "86e25211",
   "metadata": {},
   "source": [
    "___\n",
    "Saving the output to avoid long run-time in the future\n",
    "\n",
    "**Parameters**\n",
    "- `output_path_0` (str): output path for the processed pre-fire image [**.tif** file]\n",
    "- `output_path_1` (str): output path for the processed post-fire image [**.tif** file]"
   ]
  },
  {
   "cell_type": "code",
   "execution_count": 16,
   "id": "f54e837c",
   "metadata": {},
   "outputs": [],
   "source": [
    "output_path_0 = \"/Volumes/BlackT7/hv_0_25km_preprocessed_interpolated_weight5.tif\"\n",
    "output_path_1 = \"/Volumes/BlackT7/hv_1_25km_preprocessed_interpolated_weight5.tif\""
   ]
  },
  {
   "cell_type": "code",
   "execution_count": 17,
   "id": "86d24b63",
   "metadata": {},
   "outputs": [],
   "source": [
    "with rasterio.open(output_path_0, \"w\", **profile_0) as dest:\n",
    "    dest.write(hv_0, 1)\n",
    "with rasterio.open(output_path_1, \"w\", **profile_0) as dest:\n",
    "    dest.write(hv_1, 1)"
   ]
  },
  {
   "cell_type": "markdown",
   "id": "52563928",
   "metadata": {},
   "source": [
    "___ \n",
    "## Superpixel Segmentation\n",
    "Performs superpixel segmentation using [Felzenszwalb's algorithm](https://scikit-image.org/docs/stable/api/skimage.segmentation.html#skimage.segmentation.felzenszwalb) implemented by scikit-image to partition each image into multiple segments. The run time depends on the size of the images (~5-30mins)\n",
    "\n",
    "**Parameters**\n",
    "- `min_size` (int): minimum component size for Felzenszwalb's algorithm. Enforced using postprocessing. Check the hyperlink about scikit-learn implementation for more information\n",
    "- `superpixel_out_path` (str): output path for the superpixel label as np.array. [**.npy**]"
   ]
  },
  {
   "cell_type": "code",
   "execution_count": 23,
   "id": "191dafa5",
   "metadata": {},
   "outputs": [
    {
     "name": "stdout",
     "output_type": "stream",
     "text": [
      "Superpixel done\n"
     ]
    }
   ],
   "source": [
    "superpixel_labels = superpixel_segmentation(hv_0, hv_1, min_size=1000)\n",
    "print(\"Superpixel done\")"
   ]
  },
  {
   "cell_type": "code",
   "execution_count": 24,
   "id": "6a0e5ea1-9a4f-4a1e-93ab-43642a90d141",
   "metadata": {},
   "outputs": [],
   "source": [
    "superpixel_out_path = \"/Volumes/BlueT7/test_bob/superpixel_labels_08525_08527_min1000_knear_weight10.npy\""
   ]
  },
  {
   "cell_type": "code",
   "execution_count": 25,
   "id": "7eddefdc",
   "metadata": {},
   "outputs": [],
   "source": [
    "np.save(superpixel_out_path, superpixel_labels)"
   ]
  },
  {
   "cell_type": "code",
   "execution_count": null,
   "id": "5f002c66-8fde-4fa4-a7da-ba21916fe8db",
   "metadata": {},
   "outputs": [],
   "source": []
  },
  {
   "cell_type": "code",
   "execution_count": null,
   "id": "099e94d5-92e2-476a-b4b5-6cf359176f27",
   "metadata": {},
   "outputs": [],
   "source": []
  }
 ],
 "metadata": {
  "kernelspec": {
   "display_name": "classification",
   "language": "python",
   "name": "classification"
  },
  "language_info": {
   "codemirror_mode": {
    "name": "ipython",
    "version": 3
   },
   "file_extension": ".py",
   "mimetype": "text/x-python",
   "name": "python",
   "nbconvert_exporter": "python",
   "pygments_lexer": "ipython3",
   "version": "3.12.7"
  }
 },
 "nbformat": 4,
 "nbformat_minor": 5
}
